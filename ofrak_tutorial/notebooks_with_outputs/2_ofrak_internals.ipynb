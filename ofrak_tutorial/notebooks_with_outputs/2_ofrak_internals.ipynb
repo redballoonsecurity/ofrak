{
 "cells": [
  {
   "cell_type": "markdown",
   "id": "d7905674",
   "metadata": {},
   "source": [
    "## Lesson 2: A closer look into OFRAK unpacking and the resource tree"
   ]
  },
  {
   "cell_type": "markdown",
   "id": "5c98bff3",
   "metadata": {},
   "source": [
    "**Objectives**: unpack a resource; learn about OFRAK components; learn about auto-analysis, tags, and the resource tree; filter the resource tree"
   ]
  },
  {
   "cell_type": "markdown",
   "id": "8267f57c",
   "metadata": {},
   "source": [
    "Let's dive a bit deeper into the binary."
   ]
  },
  {
   "cell_type": "code",
   "execution_count": 1,
   "id": "4f0b5a52",
   "metadata": {},
   "outputs": [],
   "source": [
    "from ofrak import OFRAK\n",
    "from ofrak_tutorial.helper_functions import create_hello_world_binary\n",
    "\n",
    "create_hello_world_binary()\n",
    "\n",
    "ofrak = OFRAK()\n",
    "basic_context = await ofrak.create_ofrak_context()\n",
    "root_resource = await basic_context.create_root_resource_from_file(\"hello_world\")"
   ]
  },
  {
   "cell_type": "markdown",
   "id": "57e0b95b",
   "metadata": {},
   "source": [
    "To get more information about this binary, we want to identify what type of file it is, analyze it for attributes, and unpack it into child resources. We can do this all at once with one function call in OFRAK."
   ]
  },
  {
   "cell_type": "code",
   "execution_count": 2,
   "id": "1c3e9a0c",
   "metadata": {},
   "outputs": [],
   "source": [
    "unpack_result = await root_resource.unpack_recursively()"
   ]
  },
  {
   "cell_type": "markdown",
   "id": "1fce1bd3",
   "metadata": {},
   "source": [
    "The result of calling `unpack_recursively()` is a `ComponentRunResult` object. The details of this object are not important, but it contains two significant pieces of information:"
   ]
  },
  {
   "cell_type": "markdown",
   "id": "c229da79",
   "metadata": {},
   "source": [
    "- A number of resources were created and modified:"
   ]
  },
  {
   "cell_type": "code",
   "execution_count": 3,
   "id": "3e3fcd40",
   "metadata": {},
   "outputs": [
    {
     "name": "stdout",
     "output_type": "stream",
     "text": [
      "170 resources created\n",
      "171 resources modified\n"
     ]
    }
   ],
   "source": [
    "print(f\"{len(unpack_result.resources_created)} resources created\")\n",
    "print(f\"{len(unpack_result.resources_modified)} resources modified\")"
   ]
  },
  {
   "cell_type": "markdown",
   "id": "1557d982",
   "metadata": {},
   "source": [
    "- Several **components** were run on our resource, including `MagicMimeIdentifier` and `ElfUnpacker`:"
   ]
  },
  {
   "cell_type": "code",
   "execution_count": 4,
   "id": "16b6642d",
   "metadata": {},
   "outputs": [
    {
     "name": "stdout",
     "output_type": "stream",
     "text": [
      "components run: [b'ApkIdentifier', b'DeviceTreeBlobIdentifier', b'ElfDynamicSectionUnpacker', b'ElfPointerArraySectionUnpacker', b'ElfRelaUnpacker', b'ElfSymbolUnpacker', b'ElfUnpacker', b'MagicDescriptionIdentifier', b'MagicMimeIdentifier', b'OpenWrtIdentifier', b'Uf2FileIdentifier']\n"
     ]
    }
   ],
   "source": [
    "print(f\"components run: {sorted(unpack_result.components_run)}\")"
   ]
  },
  {
   "cell_type": "markdown",
   "id": "507b1856",
   "metadata": {},
   "source": [
    "Components in OFRAK are the objects that perform actions on resources. Components can be: **unpackers**, **packers**, **modifiers**, **identifiers**, or **analyzers**.\n",
    "\n",
    "Here's a typical OFRAK workflow in terms of these components:\n",
    "\n",
    "- create an OFRAK resource from something, typically a file on disk\n",
    "  + **unpack** the resource (this step uses **identifiers**)\n",
    "    - **modify** the resource (possibly using **analyzers**)\n",
    "  + re-**pack** the resource\n",
    "- export the modified and repacked resource, typically to a file on disk\n",
    "\n",
    "(Note: [Lesson 1](1_simple_string_modification.ipynb) presented a simpler workflow: as we only needed to access and modify the binary data of the file, unpacking and repacking weren't necessary, so we only created the resource from a file, modified its binary data, and flushed the result to disk.)\n",
    "\n",
    "Back to what happened when unpacking our hello world binary. Here, the `MagicMimeIdentifier` used `libmagic` on the binary to try and determine what type of file it is – in this case, it's an ELF executable. Based on this, OFRAK knows it needs to run the `ElfUnpacker`, which unpacked the binary into sections based on the known ELF file structure.\n",
    "\n",
    "Components can be manually selected and run on resources, or they can be run automatically, as we did here.\n",
    "\n",
    "Since we only had one resource before, but several were modified, it seems like the ELF unpacker has unpacked this file into some children! What does the resource tree look like now?"
   ]
  },
  {
   "cell_type": "code",
   "execution_count": 5,
   "id": "824d28d3",
   "metadata": {
    "tags": [
     "nbval-ignore-output"
    ]
   },
   "outputs": [
    {
     "name": "stdout",
     "output_type": "stream",
     "text": [
      "┌65fbe79d3b12431a8e9e56715b10ab46: [tags=(File, Elf), attributes=(Magic), global_offset=(0x0-0x4020), parent_offset=(0x0-0x0), data_hash=f5cd0893]\n",
      "├────cf79a2889d5c40a99d0a4abfb036dd16: [tags=(ElfBasicHeader), attributes=(ElfBasicHeaderAutoAttributes), global_offset=(0x0-0x10), parent_offset=(0x0-0x10), data_hex=7f454c46020101000000000000000000]\n",
      "├────f70b1329a3ff4da79ce4886727dcbdd5: [tags=(ElfHeader), attributes=(ElfHeaderAutoAttributes), global_offset=(0x10-0x40), parent_offset=(0x10-0x40), data_hex=02003e000100000040104000000000004000000000000000e03800000000000000000000400038000b0040001d001c00]\n",
      "├────06ecdddbdedd4a4093bdcb655a66da45: [tags=(ElfProgramHeader), attributes=(ElfSegmentStructureAutoAttributes), global_offset=(0x40-0x78), parent_offset=(0x40-0x78), data_hex=0600000004000000400000000000000040004000000000004000400000000000680200000000000068020000000000000800000000000000]\n",
      "├────4cc1c7cc18114b2c9083118c58e0fa30: [tags=(ElfProgramHeader), attributes=(ElfSegmentStructureAutoAttributes), global_offset=(0x78-0xb0), parent_offset=(0x78-0xb0), data_hex=0300000004000000a802000000000000a802400000000000a8024000000000001c000000000000001c000000000000000100000000000000]\n",
      "├────c1424d2acfe94a558f3adedd123be64c: [tags=(ElfProgramHeader), attributes=(ElfSegmentStructureAutoAttributes), global_offset=(0xb0-0xe8), parent_offset=(0xb0-0xe8), data_hex=0100000004000000000000000000000000004000000000000000400000000000380400000000000038040000000000000010000000000000]\n",
      "├────8bbc33b090b142c39e2b14c4e5e881a9: [tags=(ElfProgramHeader), attributes=(ElfSegmentStructureAutoAttributes), global_offset=(0xe8-0x120), parent_offset=(0xe8-0x120), data_hex=0100000005000000001000000000000000104000000000000010400000000000ad01000000000000ad010000000000000010000000000000]\n",
      "├────109de07712394ea1b94730cc13d8531f: [tags=(ElfProgramHeader), attributes=(ElfSegmentStructureAutoAttributes), global_offset=(0x120-0x158), parent_offset=(0x120-0x158), data_hex=0100000004000000002000000000000000204000000000000020400000000000500100000000000050010000000000000010000000000000]\n",
      "├────29c54432620548739768e7c01dbfefe9: [tags=(ElfProgramHeader), attributes=(ElfSegmentStructureAutoAttributes), global_offset=(0x158-0x190), parent_offset=(0x158-0x190), data_hex=0100000006000000102e000000000000103e400000000000103e400000000000200200000000000028020000000000000010000000000000]\n",
      "├────7e45531c875b42f3a7ec85fb351728a6: [tags=(ElfProgramHeader), attributes=(ElfSegmentStructureAutoAttributes), global_offset=(0x190-0x1c8), parent_offset=(0x190-0x1c8), data_hex=0200000006000000202e000000000000203e400000000000203e400000000000d001000000000000d0010000000000000800000000000000]\n",
      "├────0c245e2648ec4b2cafd27cb9dbcc2b1a: [tags=(ElfProgramHeader), attributes=(ElfSegmentStructureAutoAttributes), global_offset=(0x1c8-0x200), parent_offset=(0x1c8-0x200), data_hex=0400000004000000c402000000000000c402400000000000c402400000000000440000000000000044000000000000000400000000000000]\n",
      "├────78af83cebbeb4e38aa122913b2380cb0: [tags=(ElfProgramHeader), attributes=(ElfSegmentStructureAutoAttributes), global_offset=(0x200-0x238), parent_offset=(0x200-0x238), data_hex=50e57464040000001420000000000000142040000000000014204000000000003c000000000000003c000000000000000400000000000000]\n",
      "├────6f93a05d35cb468bb0af89f8c74dbad6: [tags=(ElfProgramHeader), attributes=(ElfSegmentStructureAutoAttributes), global_offset=(0x238-0x270), parent_offset=(0x238-0x270), data_hex=51e5746406000000000000000000000000000000000000000000000000000000000000000000000000000000000000001000000000000000]\n",
      "├────337dcd5476cb41efa1c556fad3a3e609: [tags=(ElfProgramHeader), attributes=(ElfSegmentStructureAutoAttributes), global_offset=(0x270-0x2a8), parent_offset=(0x270-0x2a8), data_hex=52e5746404000000102e000000000000103e400000000000103e400000000000f001000000000000f0010000000000000100000000000000]\n",
      "├────d5334457babc40e09c01c724a6713dad: [tags=(ElfSectionHeader), attributes=(ElfSectionStructureAutoAttributes, ElfSectionHeaderAutoAttributes), global_offset=(0x38e0-0x3920), parent_offset=(0x38e0-0x3920), data_hex=00000000000000000000000000000000000000000000000000000000000000000000000000000000000000000000000000000000000000000000000000000000]\n",
      "├────457b8b10296247c1b831344f706d008c: [tags=(ElfSection), attributes=(ElfSectionStructureAutoAttributes)]\n",
      "├────c623d39d434243a9b417eafa08b107ab: [tags=(ElfSectionHeader), attributes=(ElfSectionStructureAutoAttributes, ElfSectionHeaderAutoAttributes), global_offset=(0x3920-0x3960), parent_offset=(0x3920-0x3960), data_hex=1b000000010000000200000000000000a802400000000000a8020000000000001c00000000000000000000000000000001000000000000000000000000000000]\n",
      "├────ff406156e0b24edc949852992158f0ed: [tags=(ElfSection), attributes=(ElfSectionStructureAutoAttributes), global_offset=(0x2a8-0x2c4), parent_offset=(0x2a8-0x2c4), data_hex=2f6c696236342f6c642d6c696e75782d7838362d36342e736f2e3200]\n",
      "├────54500ea0ae904254a6ae234c0563caaf: [tags=(ElfSectionHeader), attributes=(ElfSectionStructureAutoAttributes, ElfSectionHeaderAutoAttributes), global_offset=(0x3960-0x39a0), parent_offset=(0x3960-0x39a0), data_hex=23000000070000000200000000000000c402400000000000c4020000000000002400000000000000000000000000000004000000000000000000000000000000]\n",
      "├────bb9ab49c6e974c4d9982edd45b06de82: [tags=(ElfSection), attributes=(ElfSectionStructureAutoAttributes), global_offset=(0x2c4-0x2e8), parent_offset=(0x2c4-0x2e8), data_hex=040000001400000003000000474e550017fb4e8bc7504a89fa3603690cb745adfd747237]\n",
      "├────2aea934ea6a64a869753bd319b23eca3: [tags=(ElfSectionHeader), attributes=(ElfSectionStructureAutoAttributes, ElfSectionHeaderAutoAttributes), global_offset=(0x39a0-0x39e0), parent_offset=(0x39a0-0x39e0), data_hex=36000000070000000200000000000000e802400000000000e8020000000000002000000000000000000000000000000004000000000000000000000000000000]\n",
      "├────e92bd55e9aa04dd487fd4751f50a9e46: [tags=(ElfSection), attributes=(ElfSectionStructureAutoAttributes), global_offset=(0x2e8-0x308), parent_offset=(0x2e8-0x308), data_hex=040000001000000001000000474e550000000000030000000200000000000000]\n",
      "├────c62182ce152d4cd09099a2e81d35a230: [tags=(ElfSectionHeader), attributes=(ElfSectionStructureAutoAttributes, ElfSectionHeaderAutoAttributes), global_offset=(0x39e0-0x3a20), parent_offset=(0x39e0-0x3a20), data_hex=44000000f6ffff6f0200000000000000080340000000000008030000000000001c00000000000000050000000000000008000000000000000000000000000000]\n",
      "├────dd47d3aa5e7a43879a937badd56f4ab4: [tags=(ElfSection), attributes=(ElfSectionStructureAutoAttributes), global_offset=(0x308-0x324), parent_offset=(0x308-0x324), data_hex=01000000010000000100000000000000000000000000000000000000]\n",
      "├────0ed28ec0e57f47de9ae826dbc076c285: [tags=(ElfSectionHeader), attributes=(ElfSectionStructureAutoAttributes, ElfSectionHeaderAutoAttributes), global_offset=(0x3a20-0x3a60), parent_offset=(0x3a20-0x3a60), data_hex=4e0000000b0000000200000000000000280340000000000028030000000000006000000000000000060000000100000008000000000000001800000000000000]\n",
      "├───┬6fa67eb5a32243bf8cc12cfced4cd145: [tags=(ElfDynSymbolSection), attributes=(ElfSectionStructureAutoAttributes, AddressableAutoAttributes, NamedProgramSectionAutoAttributes, MemoryRegionAutoAttributes), global_offset=(0x328-0x388), parent_offset=(0x328-0x388), data_hex=0000000000000000000000000000000000000000000000000100000012000000000000000000000000000000000000000600000012000000000000000000000000000000000000002e0000002000000000000000000000000000000000000000]\n",
      "│   ├────96d069bb61ae45938d469632d498c5a9: [tags=(ElfSymbol), attributes=(ElfSymbolStructureAutoAttributes), global_offset=(0x328-0x340), parent_offset=(0x0-0x18), data_hex=000000000000000000000000000000000000000000000000]\n",
      "│   ├────cdff407b7da74ed8ab33de75c44de46c: [tags=(ElfSymbol), attributes=(ElfSymbolStructureAutoAttributes), global_offset=(0x340-0x358), parent_offset=(0x18-0x30), data_hex=010000001200000000000000000000000000000000000000]\n",
      "│   ├────effa0fa30f6e450691face042371aa11: [tags=(ElfSymbol), attributes=(ElfSymbolStructureAutoAttributes), global_offset=(0x358-0x370), parent_offset=(0x30-0x48), data_hex=060000001200000000000000000000000000000000000000]\n",
      "│   └────72207202035a4817b32b9e3f3bcd20b3: [tags=(ElfSymbol), attributes=(ElfSymbolStructureAutoAttributes), global_offset=(0x370-0x388), parent_offset=(0x48-0x60), data_hex=2e0000002000000000000000000000000000000000000000]\n",
      "├────7a2651bda3714b369d3025770189bc03: [tags=(ElfSectionHeader), attributes=(ElfSectionStructureAutoAttributes, ElfSectionHeaderAutoAttributes), global_offset=(0x3a60-0x3aa0), parent_offset=(0x3a60-0x3aa0), data_hex=56000000030000000200000000000000880340000000000088030000000000003d00000000000000000000000000000001000000000000000000000000000000]\n",
      "├────a61c97a0404845f9aa3ff694998eb701: [tags=(ElfStringSection, ElfSection), attributes=(ElfSectionStructureAutoAttributes), global_offset=(0x388-0x3c5), parent_offset=(0x388-0x3c5), data_hex=0070757473005f5f6c6962635f73746172745f6d61696e006c6962632e736f2e3600474c4942435f322e322e35005f5f676d6f6e5f73746172745f5f00]\n",
      "├────368bf2b8cc94488bb1f9a840fdcbd4e9: [tags=(ElfSectionHeader), attributes=(ElfSectionStructureAutoAttributes, ElfSectionHeaderAutoAttributes), global_offset=(0x3aa0-0x3ae0), parent_offset=(0x3aa0-0x3ae0), data_hex=5e000000ffffff6f0200000000000000c603400000000000c6030000000000000800000000000000050000000000000002000000000000000200000000000000]\n",
      "├────12031929e855417ca46c6f1fad6d67fd: [tags=(ElfSection), attributes=(ElfSectionStructureAutoAttributes), global_offset=(0x3c6-0x3ce), parent_offset=(0x3c6-0x3ce), data_hex=0000020002000000]\n",
      "├────d4b363619d1a4dba93e32e532bb9ae68: [tags=(ElfSectionHeader), attributes=(ElfSectionStructureAutoAttributes, ElfSectionHeaderAutoAttributes), global_offset=(0x3ae0-0x3b20), parent_offset=(0x3ae0-0x3b20), data_hex=6b000000feffff6f0200000000000000d003400000000000d0030000000000002000000000000000060000000100000008000000000000000000000000000000]\n",
      "├────9d8d9945f28f45c895de7aef68a092fa: [tags=(ElfSection), attributes=(ElfSectionStructureAutoAttributes), global_offset=(0x3d0-0x3f0), parent_offset=(0x3d0-0x3f0), data_hex=01000100180000001000000000000000751a6909000002002200000000000000]\n",
      "├────057f15a616b54142bdcbb6729392b97a: [tags=(ElfSectionHeader), attributes=(ElfSectionStructureAutoAttributes, ElfSectionHeaderAutoAttributes), global_offset=(0x3b20-0x3b60), parent_offset=(0x3b20-0x3b60), data_hex=7a000000040000000200000000000000f003400000000000f0030000000000003000000000000000050000000000000008000000000000001800000000000000]\n",
      "├───┬9ec695d3e03747b1b5abadd3218892e7: [tags=(ElfRelaSection), attributes=(ElfSectionStructureAutoAttributes, AddressableAutoAttributes, NamedProgramSectionAutoAttributes, MemoryRegionAutoAttributes), global_offset=(0x3f0-0x420), parent_offset=(0x3f0-0x420), data_hex=f03f40000000000006000000020000000000000000000000f83f40000000000006000000030000000000000000000000]\n",
      "│   ├────614b10107118479c90721f907551ed2e: [tags=(ElfRelaEntry), attributes=(), global_offset=(0x3f0-0x408), parent_offset=(0x0-0x18), data_hex=f03f40000000000006000000020000000000000000000000]\n",
      "│   └────1be8c817af244714b97ae333344ea531: [tags=(ElfRelaEntry), attributes=(), global_offset=(0x408-0x420), parent_offset=(0x18-0x30), data_hex=f83f40000000000006000000030000000000000000000000]\n",
      "├────1a28844c0507488999778765a6c032ee: [tags=(ElfSectionHeader), attributes=(ElfSectionStructureAutoAttributes, ElfSectionHeaderAutoAttributes), global_offset=(0x3b60-0x3ba0), parent_offset=(0x3b60-0x3ba0), data_hex=84000000040000004200000000000000200440000000000020040000000000001800000000000000050000001600000008000000000000001800000000000000]\n",
      "├───┬89aaf899355e4756aec7eca1eeefebcb: [tags=(ElfRelaSection), attributes=(ElfSectionStructureAutoAttributes, AddressableAutoAttributes, NamedProgramSectionAutoAttributes, MemoryRegionAutoAttributes), global_offset=(0x420-0x438), parent_offset=(0x420-0x438), data_hex=184040000000000007000000010000000000000000000000]\n",
      "│   └────abea3851ebdb48f396ac0e19fc1957b3: [tags=(ElfRelaEntry), attributes=(), global_offset=(0x420-0x438), parent_offset=(0x0-0x18), data_hex=184040000000000007000000010000000000000000000000]\n",
      "├────bb2a12b280ba48508d47ee36b66b210f: [tags=(ElfSectionHeader), attributes=(ElfSectionStructureAutoAttributes, ElfSectionHeaderAutoAttributes), global_offset=(0x3ba0-0x3be0), parent_offset=(0x3ba0-0x3be0), data_hex=8e000000010000000600000000000000001040000000000000100000000000001700000000000000000000000000000004000000000000000000000000000000]\n",
      "├────cd59783609d04bab86e944b613651a10: [tags=(CodeRegion, ElfSection), attributes=(ElfSectionStructureAutoAttributes), global_offset=(0x1000-0x1017), parent_offset=(0x1000-0x1017), data_hex=4883ec08488b05ed2f00004885c07402ffd04883c408c3]\n",
      "├────f1b73f5e0bb44a2c9685768f9b6a3062: [tags=(ElfSectionHeader), attributes=(ElfSectionStructureAutoAttributes, ElfSectionHeaderAutoAttributes), global_offset=(0x3be0-0x3c20), parent_offset=(0x3be0-0x3c20), data_hex=89000000010000000600000000000000201040000000000020100000000000002000000000000000000000000000000010000000000000001000000000000000]\n",
      "├────34552f6b1c1c493abffc5996961e994d: [tags=(CodeRegion, ElfSection), attributes=(ElfSectionStructureAutoAttributes), global_offset=(0x1020-0x1040), parent_offset=(0x1020-0x1040), data_hex=ff35e22f0000ff25e42f00000f1f4000ff25e22f00006800000000e9e0ffffff]\n",
      "├────24931c4c82974a05b52eb3287565e83f: [tags=(ElfSectionHeader), attributes=(ElfSectionStructureAutoAttributes, ElfSectionHeaderAutoAttributes), global_offset=(0x3c20-0x3c60), parent_offset=(0x3c20-0x3c60), data_hex=94000000010000000600000000000000401040000000000040100000000000006101000000000000000000000000000010000000000000000000000000000000]\n",
      "├────e664f99f39bb484cb7e993b0a2edbb52: [tags=(CodeRegion, ElfSection), attributes=(ElfSectionStructureAutoAttributes), global_offset=(0x1040-0x11a1), parent_offset=(0x1040-0x11a1), data_hash=1eeedffe]\n",
      "├────4c675265b24e4cbebba23fc9653c20f2: [tags=(ElfSectionHeader), attributes=(ElfSectionStructureAutoAttributes, ElfSectionHeaderAutoAttributes), global_offset=(0x3c60-0x3ca0), parent_offset=(0x3c60-0x3ca0), data_hex=9a000000010000000600000000000000a411400000000000a4110000000000000900000000000000000000000000000004000000000000000000000000000000]\n",
      "├────dce89ee186594f1ba0ca4524e0985f94: [tags=(CodeRegion, ElfSection), attributes=(ElfSectionStructureAutoAttributes), global_offset=(0x11a4-0x11ad), parent_offset=(0x11a4-0x11ad), data_hex=4883ec084883c408c3]\n",
      "├────84750b25ff86465e9eb77a31b965b33f: [tags=(ElfSectionHeader), attributes=(ElfSectionStructureAutoAttributes, ElfSectionHeaderAutoAttributes), global_offset=(0x3ca0-0x3ce0), parent_offset=(0x3ca0-0x3ce0), data_hex=a0000000010000000200000000000000002040000000000000200000000000001200000000000000000000000000000004000000000000000000000000000000]\n",
      "├────1b829dc4d8d24237a96c1e8c2db42431: [tags=(ElfSection), attributes=(ElfSectionStructureAutoAttributes), global_offset=(0x2000-0x2012), parent_offset=(0x2000-0x2012), data_hex=0100020048656c6c6f2c20576f726c642100]\n",
      "├────26a1c2aa84d745e8bf2e69147b053ea4: [tags=(ElfSectionHeader), attributes=(ElfSectionStructureAutoAttributes, ElfSectionHeaderAutoAttributes), global_offset=(0x3ce0-0x3d20), parent_offset=(0x3ce0-0x3d20), data_hex=a8000000010000000200000000000000142040000000000014200000000000003c00000000000000000000000000000004000000000000000000000000000000]\n",
      "├────9c034900b5c04f9585caf79f992296da: [tags=(ElfSection), attributes=(ElfSectionStructureAutoAttributes), global_offset=(0x2014-0x2050), parent_offset=(0x2014-0x2050), data_hex=011b033b38000000060000000cf0ffff940000002cf0ffff540000005cf0ffff800000000ef1ffffbc0000002cf1ffffdc0000008cf1ffff24010000]\n",
      "├────f75fe05d786044a193ece32639592211: [tags=(ElfSectionHeader), attributes=(ElfSectionStructureAutoAttributes, ElfSectionHeaderAutoAttributes), global_offset=(0x3d20-0x3d60), parent_offset=(0x3d20-0x3d60), data_hex=b6000000010000000200000000000000502040000000000050200000000000000001000000000000000000000000000008000000000000000000000000000000]\n",
      "├────7f7866c7bf2c4aa0b1b003209ab805ea: [tags=(ElfSection), attributes=(ElfSectionStructureAutoAttributes), global_offset=(0x2050-0x2150), parent_offset=(0x2050-0x2150), data_hash=ef716b33]\n",
      "├────fc7d9ff623ff43a7adf21bf739e5c416: [tags=(ElfSectionHeader), attributes=(ElfSectionStructureAutoAttributes, ElfSectionHeaderAutoAttributes), global_offset=(0x3d60-0x3da0), parent_offset=(0x3d60-0x3da0), data_hex=c00000000e0000000300000000000000103e400000000000102e0000000000000800000000000000000000000000000008000000000000000800000000000000]\n",
      "├───┬7f80520b181b4ca8a0a3c57cb7d57c9d: [tags=(ElfSection, ElfInitArraySection), attributes=(ElfSectionStructureAutoAttributes), global_offset=(0x2e10-0x2e18), parent_offset=(0x2e10-0x2e18), data_hex=2011400000000000]\n",
      "│   └────e80622ddd61844efafef32f7b1378db7: [tags=(ElfVirtualAddress), attributes=(), global_offset=(0x2e10-0x2e18), parent_offset=(0x0-0x8), data_hex=2011400000000000]\n",
      "├────188911bfb23c41778b7322dc6f777ee4: [tags=(ElfSectionHeader), attributes=(ElfSectionStructureAutoAttributes, ElfSectionHeaderAutoAttributes), global_offset=(0x3da0-0x3de0), parent_offset=(0x3da0-0x3de0), data_hex=cc0000000f0000000300000000000000183e400000000000182e0000000000000800000000000000000000000000000008000000000000000800000000000000]\n",
      "├───┬6b8047fde4674634953452bb3eef1383: [tags=(ElfSection, ElfFiniArraySection), attributes=(ElfSectionStructureAutoAttributes), global_offset=(0x2e18-0x2e20), parent_offset=(0x2e18-0x2e20), data_hex=f010400000000000]\n",
      "│   └────c31b656242a04cc2a770072fecc531f4: [tags=(ElfVirtualAddress), attributes=(), global_offset=(0x2e18-0x2e20), parent_offset=(0x0-0x8), data_hex=f010400000000000]\n",
      "├────f51b84ab8d0246ed9593741a37329452: [tags=(ElfSectionHeader), attributes=(ElfSectionStructureAutoAttributes, ElfSectionHeaderAutoAttributes), global_offset=(0x3de0-0x3e20), parent_offset=(0x3de0-0x3e20), data_hex=d8000000060000000300000000000000203e400000000000202e000000000000d001000000000000060000000000000008000000000000001000000000000000]\n",
      "├───┬e5a35d52089a4ac6b61abb6ceb4395cd: [tags=(ElfDynamicSection), attributes=(ElfSectionStructureAutoAttributes, AddressableAutoAttributes, NamedProgramSectionAutoAttributes, MemoryRegionAutoAttributes), global_offset=(0x2e20-0x2ff0), parent_offset=(0x2e20-0x2ff0), data_hash=4438de54]\n",
      "│   ├────2939bf375ba746b690025cb70222c18b: [tags=(ElfDynamicEntry), attributes=(), global_offset=(0x2e20-0x2e30), parent_offset=(0x0-0x10), data_hex=01000000000000001800000000000000]\n",
      "│   ├────7adca41fe2fb442f9605d30ee97e351d: [tags=(ElfDynamicEntry), attributes=(), global_offset=(0x2e30-0x2e40), parent_offset=(0x10-0x20), data_hex=0c000000000000000010400000000000]\n",
      "│   ├────8f98c280bce048cb82f2ad6de90d1302: [tags=(ElfDynamicEntry), attributes=(), global_offset=(0x2e40-0x2e50), parent_offset=(0x20-0x30), data_hex=0d00000000000000a411400000000000]\n",
      "│   ├────336f27f484654eb6b1acfbd31b4f7758: [tags=(ElfDynamicEntry), attributes=(), global_offset=(0x2e50-0x2e60), parent_offset=(0x30-0x40), data_hex=1900000000000000103e400000000000]\n",
      "│   ├────1f7ecd21334d49ed9ab5e434ae16db98: [tags=(ElfDynamicEntry), attributes=(), global_offset=(0x2e60-0x2e70), parent_offset=(0x40-0x50), data_hex=1b000000000000000800000000000000]\n",
      "│   ├────24e7a0e405f84cbb94cd6a2468114a6a: [tags=(ElfDynamicEntry), attributes=(), global_offset=(0x2e70-0x2e80), parent_offset=(0x50-0x60), data_hex=1a00000000000000183e400000000000]\n",
      "│   ├────c084a5ebbab449a297b6374348a62d58: [tags=(ElfDynamicEntry), attributes=(), global_offset=(0x2e80-0x2e90), parent_offset=(0x60-0x70), data_hex=1c000000000000000800000000000000]\n",
      "│   ├────83047272ddd344719b186002e6efc5be: [tags=(ElfDynamicEntry), attributes=(), global_offset=(0x2e90-0x2ea0), parent_offset=(0x70-0x80), data_hex=f5feff6f000000000803400000000000]\n",
      "│   ├────82d9aee0142542b99be345f7ff5a3179: [tags=(ElfDynamicEntry), attributes=(), global_offset=(0x2ea0-0x2eb0), parent_offset=(0x80-0x90), data_hex=05000000000000008803400000000000]\n",
      "│   ├────081c894533c04667a55613d90cc3d255: [tags=(ElfDynamicEntry), attributes=(), global_offset=(0x2eb0-0x2ec0), parent_offset=(0x90-0xa0), data_hex=06000000000000002803400000000000]\n",
      "│   ├────9d32cdf16df94ecf8bd2ecab1b8c6855: [tags=(ElfDynamicEntry), attributes=(), global_offset=(0x2ec0-0x2ed0), parent_offset=(0xa0-0xb0), data_hex=0a000000000000003d00000000000000]\n",
      "│   ├────f02a8094cfb242c38a02062316740072: [tags=(ElfDynamicEntry), attributes=(), global_offset=(0x2ed0-0x2ee0), parent_offset=(0xb0-0xc0), data_hex=0b000000000000001800000000000000]\n",
      "│   ├────b8e8e67e216341ed8ba936b76b16a785: [tags=(ElfDynamicEntry), attributes=(), global_offset=(0x2ee0-0x2ef0), parent_offset=(0xc0-0xd0), data_hex=15000000000000000000000000000000]\n",
      "│   ├────d94185bfeb7d4afd9019197aafdf16e8: [tags=(ElfDynamicEntry), attributes=(), global_offset=(0x2ef0-0x2f00), parent_offset=(0xd0-0xe0), data_hex=03000000000000000040400000000000]\n",
      "│   ├────b3a77ba10c714440a4e91ad0e836d79a: [tags=(ElfDynamicEntry), attributes=(), global_offset=(0x2f00-0x2f10), parent_offset=(0xe0-0xf0), data_hex=02000000000000001800000000000000]\n",
      "│   ├────7bea9004ee7149098885f768f5aa4fd9: [tags=(ElfDynamicEntry), attributes=(), global_offset=(0x2f10-0x2f20), parent_offset=(0xf0-0x100), data_hex=14000000000000000700000000000000]\n",
      "│   ├────3f05bed06d68403d98a5e195d2f58414: [tags=(ElfDynamicEntry), attributes=(), global_offset=(0x2f20-0x2f30), parent_offset=(0x100-0x110), data_hex=17000000000000002004400000000000]\n",
      "│   ├────74a2b052e0824923a57b28ba974ce185: [tags=(ElfDynamicEntry), attributes=(), global_offset=(0x2f30-0x2f40), parent_offset=(0x110-0x120), data_hex=0700000000000000f003400000000000]\n",
      "│   ├────61ff2c6539264f918d1cc983ae582b6c: [tags=(ElfDynamicEntry), attributes=(), global_offset=(0x2f40-0x2f50), parent_offset=(0x120-0x130), data_hex=08000000000000003000000000000000]\n",
      "│   ├────fd378d114dcb4c82a12f4955b719275d: [tags=(ElfDynamicEntry), attributes=(), global_offset=(0x2f50-0x2f60), parent_offset=(0x130-0x140), data_hex=09000000000000001800000000000000]\n",
      "│   ├────61f5ac0a1d044ebab8d465b2d6cb12db: [tags=(ElfDynamicEntry), attributes=(), global_offset=(0x2f60-0x2f70), parent_offset=(0x140-0x150), data_hex=feffff6f00000000d003400000000000]\n",
      "│   ├────c971439f86ff40e588f70d38c4cf1a64: [tags=(ElfDynamicEntry), attributes=(), global_offset=(0x2f70-0x2f80), parent_offset=(0x150-0x160), data_hex=ffffff6f000000000100000000000000]\n",
      "│   ├────03faaed04d7e4c2d98e388a5949c83a6: [tags=(ElfDynamicEntry), attributes=(), global_offset=(0x2f80-0x2f90), parent_offset=(0x160-0x170), data_hex=f0ffff6f00000000c603400000000000]\n",
      "│   ├────628e6af92ecd479384ac17f795b70a54: [tags=(ElfDynamicEntry), attributes=(), global_offset=(0x2f90-0x2fa0), parent_offset=(0x170-0x180), data_hex=00000000000000000000000000000000]\n",
      "│   ├────0f7ad7076ba34c31a286b2dabcdfed18: [tags=(ElfDynamicEntry), attributes=(), global_offset=(0x2fa0-0x2fb0), parent_offset=(0x180-0x190), data_hex=00000000000000000000000000000000]\n",
      "│   ├────66fdea5b223140e8b67e50a33f435dfe: [tags=(ElfDynamicEntry), attributes=(), global_offset=(0x2fb0-0x2fc0), parent_offset=(0x190-0x1a0), data_hex=00000000000000000000000000000000]\n",
      "│   ├────49a880d5a6c24ef3ab9234ebe27929d7: [tags=(ElfDynamicEntry), attributes=(), global_offset=(0x2fc0-0x2fd0), parent_offset=(0x1a0-0x1b0), data_hex=00000000000000000000000000000000]\n",
      "│   ├────d60f066637a94c0f8fbb094ee9a3e2ac: [tags=(ElfDynamicEntry), attributes=(), global_offset=(0x2fd0-0x2fe0), parent_offset=(0x1b0-0x1c0), data_hex=00000000000000000000000000000000]\n",
      "│   └────0fcd48c132b044efa184dd1e6d4a9a44: [tags=(ElfDynamicEntry), attributes=(), global_offset=(0x2fe0-0x2ff0), parent_offset=(0x1c0-0x1d0), data_hex=00000000000000000000000000000000]\n",
      "├────812a8569ea3d43bd9df07ada1b2a1a61: [tags=(ElfSectionHeader), attributes=(ElfSectionStructureAutoAttributes, ElfSectionHeaderAutoAttributes), global_offset=(0x3e20-0x3e60), parent_offset=(0x3e20-0x3e60), data_hex=e1000000010000000300000000000000f03f400000000000f02f0000000000001000000000000000000000000000000008000000000000000800000000000000]\n",
      "├────57b7960e830d41c591e771d25b8cdd31: [tags=(ElfSection), attributes=(ElfSectionStructureAutoAttributes), global_offset=(0x2ff0-0x3000), parent_offset=(0x2ff0-0x3000), data_hex=00000000000000000000000000000000]\n",
      "├────98391bba18ba4a9eab62538de865de0e: [tags=(ElfSectionHeader), attributes=(ElfSectionStructureAutoAttributes, ElfSectionHeaderAutoAttributes), global_offset=(0x3e60-0x3ea0), parent_offset=(0x3e60-0x3ea0), data_hex=e6000000010000000300000000000000004040000000000000300000000000002000000000000000000000000000000008000000000000000800000000000000]\n",
      "├────29d11729788c49ae8798e47785c1512f: [tags=(ElfSection), attributes=(ElfSectionStructureAutoAttributes), global_offset=(0x3000-0x3020), parent_offset=(0x3000-0x3020), data_hex=203e400000000000000000000000000000000000000000003610400000000000]\n",
      "├────a3d080e162564f33b31eb7886a40926e: [tags=(ElfSectionHeader), attributes=(ElfSectionStructureAutoAttributes, ElfSectionHeaderAutoAttributes), global_offset=(0x3ea0-0x3ee0), parent_offset=(0x3ea0-0x3ee0), data_hex=ef000000010000000300000000000000204040000000000020300000000000001000000000000000000000000000000008000000000000000000000000000000]\n",
      "├────d549cc513ce04581b199cca7e06545a9: [tags=(ElfSection), attributes=(ElfSectionStructureAutoAttributes), global_offset=(0x3020-0x3030), parent_offset=(0x3020-0x3030), data_hex=00000000000000000000000000000000]\n",
      "├────e2b8c8afecd9427f9a34e8d4dcf3e031: [tags=(ElfSectionHeader), attributes=(ElfSectionStructureAutoAttributes, ElfSectionHeaderAutoAttributes), global_offset=(0x3ee0-0x3f20), parent_offset=(0x3ee0-0x3f20), data_hex=f5000000080000000300000000000000304040000000000030300000000000000800000000000000000000000000000001000000000000000000000000000000]\n",
      "├────21fd4727d6524563858448bc249939b7: [tags=(ElfSection), attributes=(ElfSectionStructureAutoAttributes)]\n",
      "├────ee60296ea3514920a95e38f444dc7988: [tags=(ElfSectionHeader), attributes=(ElfSectionStructureAutoAttributes, ElfSectionHeaderAutoAttributes), global_offset=(0x3f20-0x3f60), parent_offset=(0x3f20-0x3f60), data_hex=fa000000010000003000000000000000000000000000000030300000000000002700000000000000000000000000000001000000000000000100000000000000]\n",
      "├────c2e6d66221cb400eb4f7a375ce5b547a: [tags=(ElfSection), attributes=(ElfSectionStructureAutoAttributes), global_offset=(0x3030-0x3057), parent_offset=(0x3030-0x3057), data_hex=4743433a202844656269616e2031302e322e312d36292031302e322e3120323032313031313000]\n",
      "├────4331c3fe882f490b948a888b39bf3cf9: [tags=(ElfSectionHeader), attributes=(ElfSectionStructureAutoAttributes, ElfSectionHeaderAutoAttributes), global_offset=(0x3f60-0x3fa0), parent_offset=(0x3f60-0x3fa0), data_hex=0100000002000000000000000000000000000000000000005830000000000000b8050000000000001b0000002b00000008000000000000001800000000000000]\n",
      "├───┬968178ed9b8549c79a2e40ad91f7fd4f: [tags=(ElfSymbolSection), attributes=(ElfSectionStructureAutoAttributes, AddressableAutoAttributes, NamedProgramSectionAutoAttributes, MemoryRegionAutoAttributes), global_offset=(0x3058-0x3610), parent_offset=(0x3058-0x3610), data_hash=f6bc0737]\n",
      "│   ├────b3dbbb3a1c384aef94e8f483834a9aa3: [tags=(ElfSymbol), attributes=(ElfSymbolStructureAutoAttributes), global_offset=(0x3058-0x3070), parent_offset=(0x0-0x18), data_hex=000000000000000000000000000000000000000000000000]\n",
      "│   ├────6d54977e9fcd47119334a74231d6c063: [tags=(ElfSymbol), attributes=(ElfSymbolStructureAutoAttributes), global_offset=(0x3070-0x3088), parent_offset=(0x18-0x30), data_hex=0000000003000100a8024000000000000000000000000000]\n",
      "│   ├────aea864a0355546dd87b4651948734edf: [tags=(ElfSymbol), attributes=(ElfSymbolStructureAutoAttributes), global_offset=(0x3088-0x30a0), parent_offset=(0x30-0x48), data_hex=0000000003000200c4024000000000000000000000000000]\n",
      "│   ├────ec608dcff6e64b31a7193f3c0e3266f6: [tags=(ElfSymbol), attributes=(ElfSymbolStructureAutoAttributes), global_offset=(0x30a0-0x30b8), parent_offset=(0x48-0x60), data_hex=0000000003000300e8024000000000000000000000000000]\n",
      "│   ├────2a5727222d854883a516dcf3aada6920: [tags=(ElfSymbol), attributes=(ElfSymbolStructureAutoAttributes), global_offset=(0x30b8-0x30d0), parent_offset=(0x60-0x78), data_hex=000000000300040008034000000000000000000000000000]\n",
      "│   ├────c88c57dbbc0f4e1e9f9267c46e97c98c: [tags=(ElfSymbol), attributes=(ElfSymbolStructureAutoAttributes), global_offset=(0x30d0-0x30e8), parent_offset=(0x78-0x90), data_hex=000000000300050028034000000000000000000000000000]\n",
      "│   ├────2ba1f010b5044915852f19d7a7685f27: [tags=(ElfSymbol), attributes=(ElfSymbolStructureAutoAttributes), global_offset=(0x30e8-0x3100), parent_offset=(0x90-0xa8), data_hex=000000000300060088034000000000000000000000000000]\n",
      "│   ├────03134618831d4ca5827b761fd8d15199: [tags=(ElfSymbol), attributes=(ElfSymbolStructureAutoAttributes), global_offset=(0x3100-0x3118), parent_offset=(0xa8-0xc0), data_hex=0000000003000700c6034000000000000000000000000000]\n",
      "│   ├────e583473fb3cb484e978a0597a967c9d8: [tags=(ElfSymbol), attributes=(ElfSymbolStructureAutoAttributes), global_offset=(0x3118-0x3130), parent_offset=(0xc0-0xd8), data_hex=0000000003000800d0034000000000000000000000000000]\n",
      "│   ├────aea59715d38d46ebadb5568d3821d660: [tags=(ElfSymbol), attributes=(ElfSymbolStructureAutoAttributes), global_offset=(0x3130-0x3148), parent_offset=(0xd8-0xf0), data_hex=0000000003000900f0034000000000000000000000000000]\n",
      "│   ├────a22a4d23701043fd83a53f54bf894e35: [tags=(ElfSymbol), attributes=(ElfSymbolStructureAutoAttributes), global_offset=(0x3148-0x3160), parent_offset=(0xf0-0x108), data_hex=0000000003000a0020044000000000000000000000000000]\n",
      "│   ├────c1dddd36d3884af7acdaf4856cfe6ae1: [tags=(ElfSymbol), attributes=(ElfSymbolStructureAutoAttributes), global_offset=(0x3160-0x3178), parent_offset=(0x108-0x120), data_hex=0000000003000b0000104000000000000000000000000000]\n",
      "│   ├────ce20953f1a134ac3b6c9060626d5d1a3: [tags=(ElfSymbol), attributes=(ElfSymbolStructureAutoAttributes), global_offset=(0x3178-0x3190), parent_offset=(0x120-0x138), data_hex=0000000003000c0020104000000000000000000000000000]\n",
      "│   ├────3a317c49d2624472a9a4f34ecad0119b: [tags=(ElfSymbol), attributes=(ElfSymbolStructureAutoAttributes), global_offset=(0x3190-0x31a8), parent_offset=(0x138-0x150), data_hex=0000000003000d0040104000000000000000000000000000]\n",
      "│   ├────90e2604d9d34420996f6c0d82c79eaf5: [tags=(ElfSymbol), attributes=(ElfSymbolStructureAutoAttributes), global_offset=(0x31a8-0x31c0), parent_offset=(0x150-0x168), data_hex=0000000003000e00a4114000000000000000000000000000]\n",
      "│   ├────184ff49b7797445cb6f32e04b9c114ad: [tags=(ElfSymbol), attributes=(ElfSymbolStructureAutoAttributes), global_offset=(0x31c0-0x31d8), parent_offset=(0x168-0x180), data_hex=0000000003000f0000204000000000000000000000000000]\n",
      "│   ├────2db9ad2b56b244f6a9685b5db8accc7f: [tags=(ElfSymbol), attributes=(ElfSymbolStructureAutoAttributes), global_offset=(0x31d8-0x31f0), parent_offset=(0x180-0x198), data_hex=000000000300100014204000000000000000000000000000]\n",
      "│   ├────f26ad4cc5ba347fcb5cd19feafbdcccb: [tags=(ElfSymbol), attributes=(ElfSymbolStructureAutoAttributes), global_offset=(0x31f0-0x3208), parent_offset=(0x198-0x1b0), data_hex=000000000300110050204000000000000000000000000000]\n",
      "│   ├────ebf2141560334684837931218062f0e9: [tags=(ElfSymbol), attributes=(ElfSymbolStructureAutoAttributes), global_offset=(0x3208-0x3220), parent_offset=(0x1b0-0x1c8), data_hex=0000000003001200103e4000000000000000000000000000]\n",
      "│   ├────8088391ba5a348e88dd3b4c1e3fe2883: [tags=(ElfSymbol), attributes=(ElfSymbolStructureAutoAttributes), global_offset=(0x3220-0x3238), parent_offset=(0x1c8-0x1e0), data_hex=0000000003001300183e4000000000000000000000000000]\n",
      "│   ├────4c47cccd060a473cb8948cd565c0e574: [tags=(ElfSymbol), attributes=(ElfSymbolStructureAutoAttributes), global_offset=(0x3238-0x3250), parent_offset=(0x1e0-0x1f8), data_hex=0000000003001400203e4000000000000000000000000000]\n",
      "│   ├────333a4eda5fc6449c840c829168a1d585: [tags=(ElfSymbol), attributes=(ElfSymbolStructureAutoAttributes), global_offset=(0x3250-0x3268), parent_offset=(0x1f8-0x210), data_hex=0000000003001500f03f4000000000000000000000000000]\n",
      "│   ├────33dc27b0c8cc41a39996b0915afebb1d: [tags=(ElfSymbol), attributes=(ElfSymbolStructureAutoAttributes), global_offset=(0x3268-0x3280), parent_offset=(0x210-0x228), data_hex=000000000300160000404000000000000000000000000000]\n",
      "│   ├────cddeaf2480fa4e50b37491d14ec2211b: [tags=(ElfSymbol), attributes=(ElfSymbolStructureAutoAttributes), global_offset=(0x3280-0x3298), parent_offset=(0x228-0x240), data_hex=000000000300170020404000000000000000000000000000]\n",
      "│   ├────8322e5b1574244f8a8a4f68f6598c778: [tags=(ElfSymbol), attributes=(ElfSymbolStructureAutoAttributes), global_offset=(0x3298-0x32b0), parent_offset=(0x240-0x258), data_hex=000000000300180030404000000000000000000000000000]\n",
      "│   ├────2b7c6bf3f3a149ba911c1e583dfc15e0: [tags=(ElfSymbol), attributes=(ElfSymbolStructureAutoAttributes), global_offset=(0x32b0-0x32c8), parent_offset=(0x258-0x270), data_hex=000000000300190000000000000000000000000000000000]\n",
      "│   ├────27fef0014f16467f961dafe0051f6f70: [tags=(ElfSymbol), attributes=(ElfSymbolStructureAutoAttributes), global_offset=(0x32c8-0x32e0), parent_offset=(0x270-0x288), data_hex=010000000400f1ff00000000000000000000000000000000]\n",
      "│   ├────424b41e687a74cbe81589c25f9f0d708: [tags=(ElfSymbol), attributes=(ElfSymbolStructureAutoAttributes), global_offset=(0x32e0-0x32f8), parent_offset=(0x288-0x2a0), data_hex=0c00000002000d0080104000000000000000000000000000]\n",
      "│   ├────aa22c6ded4df47459acf7c406d028be4: [tags=(ElfSymbol), attributes=(ElfSymbolStructureAutoAttributes), global_offset=(0x32f8-0x3310), parent_offset=(0x2a0-0x2b8), data_hex=0e00000002000d00b0104000000000000000000000000000]\n",
      "│   ├────f569889653dd4152a4fa424cf4ecabfb: [tags=(ElfSymbol), attributes=(ElfSymbolStructureAutoAttributes), global_offset=(0x3310-0x3328), parent_offset=(0x2b8-0x2d0), data_hex=2100000002000d00f0104000000000000000000000000000]\n",
      "│   ├────f60cc4bbc9a34ad2b0e3686f501ae7ef: [tags=(ElfSymbol), attributes=(ElfSymbolStructureAutoAttributes), global_offset=(0x3328-0x3340), parent_offset=(0x2d0-0x2e8), data_hex=370000000100180030404000000000000100000000000000]\n",
      "│   ├────4f79c5e8102a4841a324349ede901e32: [tags=(ElfSymbol), attributes=(ElfSymbolStructureAutoAttributes), global_offset=(0x3340-0x3358), parent_offset=(0x2e8-0x300), data_hex=4300000001001300183e4000000000000000000000000000]\n",
      "│   ├────21294a433dea425bb5b677b95541d96d: [tags=(ElfSymbol), attributes=(ElfSymbolStructureAutoAttributes), global_offset=(0x3358-0x3370), parent_offset=(0x300-0x318), data_hex=6a00000002000d0020114000000000000000000000000000]\n",
      "│   ├────499ce9ed7e8446f6919f4d84b68ff050: [tags=(ElfSymbol), attributes=(ElfSymbolStructureAutoAttributes), global_offset=(0x3370-0x3388), parent_offset=(0x318-0x330), data_hex=7600000001001200103e4000000000000000000000000000]\n",
      "│   ├────45f57233f5fe495aaeadb73194761228: [tags=(ElfSymbol), attributes=(ElfSymbolStructureAutoAttributes), global_offset=(0x3388-0x33a0), parent_offset=(0x330-0x348), data_hex=950000000400f1ff00000000000000000000000000000000]\n",
      "│   ├────bb2d83edb92c4185b6c60fdf7c245ca6: [tags=(ElfSymbol), attributes=(ElfSymbolStructureAutoAttributes), global_offset=(0x33a0-0x33b8), parent_offset=(0x348-0x360), data_hex=010000000400f1ff00000000000000000000000000000000]\n",
      "│   ├────10568291c9f440c585b014a54518dbb2: [tags=(ElfSymbol), attributes=(ElfSymbolStructureAutoAttributes), global_offset=(0x33b8-0x33d0), parent_offset=(0x360-0x378), data_hex=a3000000010011004c214000000000000000000000000000]\n",
      "│   ├────5ec067b9224a4973a6bc84a0fb8b173f: [tags=(ElfSymbol), attributes=(ElfSymbolStructureAutoAttributes), global_offset=(0x33d0-0x33e8), parent_offset=(0x378-0x390), data_hex=000000000400f1ff00000000000000000000000000000000]\n",
      "│   ├────acd20e706db54451bae7be0802f80270: [tags=(ElfSymbol), attributes=(ElfSymbolStructureAutoAttributes), global_offset=(0x33e8-0x3400), parent_offset=(0x390-0x3a8), data_hex=b100000000001200183e4000000000000000000000000000]\n",
      "│   ├────73151c9962d4479dac230dda3d163670: [tags=(ElfSymbol), attributes=(ElfSymbolStructureAutoAttributes), global_offset=(0x3400-0x3418), parent_offset=(0x3a8-0x3c0), data_hex=c200000001001400203e4000000000000000000000000000]\n",
      "│   ├────5d976fb35b684a4baeecd1a77914f346: [tags=(ElfSymbol), attributes=(ElfSymbolStructureAutoAttributes), global_offset=(0x3418-0x3430), parent_offset=(0x3c0-0x3d8), data_hex=cb00000000001200103e4000000000000000000000000000]\n",
      "│   ├────1ef76e65b08e420b99709bf3070e9eea: [tags=(ElfSymbol), attributes=(ElfSymbolStructureAutoAttributes), global_offset=(0x3430-0x3448), parent_offset=(0x3d8-0x3f0), data_hex=de0000000000100014204000000000000000000000000000]\n",
      "│   ├────4374fcfa3c8f4d98861ad7f1c97cd096: [tags=(ElfSymbol), attributes=(ElfSymbolStructureAutoAttributes), global_offset=(0x3448-0x3460), parent_offset=(0x3f0-0x408), data_hex=f10000000100160000404000000000000000000000000000]\n",
      "│   ├────dd5232bf0f904569ba609cc2efb7dc44: [tags=(ElfSymbol), attributes=(ElfSymbolStructureAutoAttributes), global_offset=(0x3460-0x3478), parent_offset=(0x408-0x420), data_hex=0701000012000d00a0114000000000000100000000000000]\n",
      "│   ├────f3042b3fa8f3422f897eca3a05b54389: [tags=(ElfSymbol), attributes=(ElfSymbolStructureAutoAttributes), global_offset=(0x3478-0x3490), parent_offset=(0x420-0x438), data_hex=4f0100002000170020404000000000000000000000000000]\n",
      "│   ├────de5322435ecc47bfb4711754cd6258aa: [tags=(ElfSymbol), attributes=(ElfSymbolStructureAutoAttributes), global_offset=(0x3490-0x34a8), parent_offset=(0x438-0x450), data_hex=170100001200000000000000000000000000000000000000]\n",
      "│   ├────128fddf096864abd87d4b9b6c1473564: [tags=(ElfSymbol), attributes=(ElfSymbolStructureAutoAttributes), global_offset=(0x34a8-0x34c0), parent_offset=(0x450-0x468), data_hex=280100001000170030404000000000000000000000000000]\n",
      "│   ├────1bfa6be4907843d1aa2cfc4c385987a9: [tags=(ElfSymbol), attributes=(ElfSymbolStructureAutoAttributes), global_offset=(0x34c0-0x34d8), parent_offset=(0x468-0x480), data_hex=1101000012020e00a4114000000000000000000000000000]\n",
      "│   ├────ae0d7a6779824365a4e5bab72ecd2a0f: [tags=(ElfSymbol), attributes=(ElfSymbolStructureAutoAttributes), global_offset=(0x34d8-0x34f0), parent_offset=(0x480-0x498), data_hex=2f0100001200000000000000000000000000000000000000]\n",
      "│   ├────c17a3dd1238548d3b79a439ef0433c28: [tags=(ElfSymbol), attributes=(ElfSymbolStructureAutoAttributes), global_offset=(0x34f0-0x3508), parent_offset=(0x498-0x4b0), data_hex=4d0100001000170020404000000000000000000000000000]\n",
      "│   ├────6bbdc81239994ed186ffc6733e2d5406: [tags=(ElfSymbol), attributes=(ElfSymbolStructureAutoAttributes), global_offset=(0x3508-0x3520), parent_offset=(0x4b0-0x4c8), data_hex=5a0100002000000000000000000000000000000000000000]\n",
      "│   ├────0662b9644a0147b7ad6ec891c8d0813c: [tags=(ElfSymbol), attributes=(ElfSymbolStructureAutoAttributes), global_offset=(0x3520-0x3538), parent_offset=(0x4c8-0x4e0), data_hex=690100001102170028404000000000000000000000000000]\n",
      "│   ├────12ecec88b6a44f1d8df7344735daf50d: [tags=(ElfSymbol), attributes=(ElfSymbolStructureAutoAttributes), global_offset=(0x3538-0x3550), parent_offset=(0x4e0-0x4f8), data_hex=7601000011000f0000204000000000000400000000000000]\n",
      "│   ├────a82ff47036cd477085a66f67d4ef6f17: [tags=(ElfSymbol), attributes=(ElfSymbolStructureAutoAttributes), global_offset=(0x3550-0x3568), parent_offset=(0x4f8-0x510), data_hex=8501000012000d0040114000000000005d00000000000000]\n",
      "│   ├────ca69d989517b416ca5a460bf9da141ae: [tags=(ElfSymbol), attributes=(ElfSymbolStructureAutoAttributes), global_offset=(0x3568-0x3580), parent_offset=(0x510-0x528), data_hex=bd0000001000180038404000000000000000000000000000]\n",
      "│   ├────6170c1791ae54b6ca23e61f63f7158bf: [tags=(ElfSymbol), attributes=(ElfSymbolStructureAutoAttributes), global_offset=(0x3580-0x3598), parent_offset=(0x528-0x540), data_hex=9501000012020d0070104000000000000100000000000000]\n",
      "│   ├────e5bb21ea439245f7969d8a5e833621d5: [tags=(ElfSymbol), attributes=(ElfSymbolStructureAutoAttributes), global_offset=(0x3598-0x35b0), parent_offset=(0x540-0x558), data_hex=5301000012000d0040104000000000002b00000000000000]\n",
      "│   ├────17ae1d174d354ba58c5b755e9d492e04: [tags=(ElfSymbol), attributes=(ElfSymbolStructureAutoAttributes), global_offset=(0x35b0-0x35c8), parent_offset=(0x558-0x570), data_hex=ad0100001000180030404000000000000000000000000000]\n",
      "│   ├────b1dc2ba8771d4e0a89f3eafd78a4fbee: [tags=(ElfSymbol), attributes=(ElfSymbolStructureAutoAttributes), global_offset=(0x35c8-0x35e0), parent_offset=(0x570-0x588), data_hex=b901000012000d0022114000000000001700000000000000]\n",
      "│   ├────f45e17f478864e7995a06d2f8f9a2dd1: [tags=(ElfSymbol), attributes=(ElfSymbolStructureAutoAttributes), global_offset=(0x35e0-0x35f8), parent_offset=(0x588-0x5a0), data_hex=be0100001102170030404000000000000000000000000000]\n",
      "│   └────38a6b6b165694121a9fcf62b9acb3927: [tags=(ElfSymbol), attributes=(ElfSymbolStructureAutoAttributes), global_offset=(0x35f8-0x3610), parent_offset=(0x5a0-0x5b8), data_hex=8f01000012020b0000104000000000000000000000000000]\n",
      "├────d941c8eae861441fbd6c5efb8636c41d: [tags=(ElfSectionHeader), attributes=(ElfSectionStructureAutoAttributes, ElfSectionHeaderAutoAttributes), global_offset=(0x3fa0-0x3fe0), parent_offset=(0x3fa0-0x3fe0), data_hex=0900000003000000000000000000000000000000000000001036000000000000ca01000000000000000000000000000001000000000000000000000000000000]\n",
      "├────f4e9a849a4d6455ab12bd264cff76531: [tags=(ElfStringSection, ElfSection), attributes=(ElfSectionStructureAutoAttributes), global_offset=(0x3610-0x37da), parent_offset=(0x3610-0x37da), data_hash=800e56e9]\n",
      "├────f2a720360b7245e08883098cf0c959be: [tags=(ElfSectionHeader), attributes=(ElfSectionStructureAutoAttributes, ElfSectionHeaderAutoAttributes), global_offset=(0x3fe0-0x4020), parent_offset=(0x3fe0-0x4020), data_hex=110000000300000000000000000000000000000000000000da370000000000000301000000000000000000000000000001000000000000000000000000000000]\n",
      "└────c9e6f2e1142e44918e5d24e651cac5c5: [tags=(ElfSection, ElfSectionNameStringSection), attributes=(ElfSectionStructureAutoAttributes), global_offset=(0x37da-0x38dd), parent_offset=(0x37da-0x38dd), data_hash=6db41dea]\n",
      "\n"
     ]
    }
   ],
   "source": [
    "info = await root_resource.summarize_tree()\n",
    "print(info)"
   ]
  },
  {
   "cell_type": "markdown",
   "id": "2a51c552",
   "metadata": {},
   "source": [
    "This tree has a lot more information than before. Which kinds of children were created? Let's have a look at their *tags*, which essentially describe the possible types that OFRAK knows for a resource."
   ]
  },
  {
   "cell_type": "code",
   "execution_count": 6,
   "id": "99859d11",
   "metadata": {},
   "outputs": [
    {
     "name": "stdout",
     "output_type": "stream",
     "text": [
      "Addressable\n",
      "CodeRegion\n",
      "ElfBasicHeader\n",
      "ElfDynSymbolSection\n",
      "ElfDynamicEntry\n",
      "ElfDynamicSection\n",
      "ElfFiniArraySection\n",
      "ElfHeader\n",
      "ElfInitArraySection\n",
      "ElfPointerArraySection\n",
      "ElfProgramHeader\n",
      "ElfRelaEntry\n",
      "ElfRelaSection\n",
      "ElfSection\n",
      "ElfSectionHeader\n",
      "ElfSectionNameStringSection\n",
      "ElfSectionStructure\n",
      "ElfSegmentStructure\n",
      "ElfStringSection\n",
      "ElfSymbol\n",
      "ElfSymbolSection\n",
      "ElfSymbolStructure\n",
      "ElfVirtualAddress\n",
      "MemoryRegion\n",
      "NamedProgramSection\n",
      "ProgramSection\n",
      "UnanalyzedElfSection\n"
     ]
    }
   ],
   "source": [
    "async def get_descendants_tags(resource):\n",
    "    \"\"\"Return an alphabetically sorted list of all the tags of the descendants of `resource`.\"\"\"\n",
    "    all_tags = set()\n",
    "    for child_resource in await resource.get_descendants():\n",
    "        all_tags |= set(child_resource.get_tags())\n",
    "    return sorted(all_tags, key=str)\n",
    "\n",
    "for tag in await get_descendants_tags(root_resource):\n",
    "    print(tag)"
   ]
  },
  {
   "cell_type": "markdown",
   "id": "12c6fa95",
   "metadata": {},
   "source": [
    "OFRAK has analyzed the binary down to basically its ELF sections, headers and symbols. No instructions? That's because we haven't told OFRAK which analysis backend to use. Available backends are Ghidra and BinaryNinja; we'll introduce them later, when we need them."
   ]
  },
  {
   "cell_type": "markdown",
   "id": "c477afd5",
   "metadata": {},
   "source": [
    "How would we get all the resources in the tree with a `CodeRegion` tag? We can use one of OFRAK's filtering capabilities, `ResourceFilter.with_tags`:"
   ]
  },
  {
   "cell_type": "code",
   "execution_count": 7,
   "id": "f1dd1f92",
   "metadata": {
    "tags": [
     "nbval-ignore-output"
    ]
   },
   "outputs": [
    {
     "data": {
      "text/plain": [
       "[Resource(resource_id=34552f6b1c1c493abffc5996961e994d, tag=[Addressable,UnanalyzedElfSection,MemoryRegion,CodeRegion,NamedProgramSection,ElfSection], data=5723761de8c6490b85c0d8a99b31eda6),\n",
       " Resource(resource_id=dce89ee186594f1ba0ca4524e0985f94, tag=[Addressable,UnanalyzedElfSection,MemoryRegion,CodeRegion,NamedProgramSection,ElfSection], data=7cc10f26af3f4baebdfe5c0b21ec9b3a),\n",
       " Resource(resource_id=e664f99f39bb484cb7e993b0a2edbb52, tag=[Addressable,UnanalyzedElfSection,MemoryRegion,CodeRegion,NamedProgramSection,ElfSection], data=fa216427c7c94eb995e9e63be90b8c8a),\n",
       " Resource(resource_id=cd59783609d04bab86e944b613651a10, tag=[Addressable,UnanalyzedElfSection,MemoryRegion,CodeRegion,NamedProgramSection,ElfSection], data=8e2c7c3dc874410385b73e87634a1abb)]"
      ]
     },
     "execution_count": 7,
     "metadata": {},
     "output_type": "execute_result"
    }
   ],
   "source": [
    "from ofrak.core import CodeRegion\n",
    "from ofrak import ResourceFilter\n",
    "\n",
    "list(await root_resource.get_descendants(\n",
    "    r_filter=ResourceFilter.with_tags(CodeRegion)\n",
    "))"
   ]
  },
  {
   "cell_type": "markdown",
   "id": "086319a6",
   "metadata": {},
   "source": [
    "[Next page](3_binary_format_modification.ipynb)"
   ]
  }
 ],
 "metadata": {
  "kernelspec": {
   "display_name": "Python 3 (ipykernel)",
   "language": "python",
   "name": "python3"
  },
  "language_info": {
   "codemirror_mode": {
    "name": "ipython",
    "version": 3
   },
   "file_extension": ".py",
   "mimetype": "text/x-python",
   "name": "python",
   "nbconvert_exporter": "python",
   "pygments_lexer": "ipython3",
   "version": "3.7.13"
  },
  "pycharm": {
   "stem_cell": {
    "cell_type": "raw",
    "source": [],
    "metadata": {
     "collapsed": false
    }
   }
  }
 },
 "nbformat": 4,
 "nbformat_minor": 5
}
