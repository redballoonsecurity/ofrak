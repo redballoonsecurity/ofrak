{
 "cells": [
  {
   "cell_type": "markdown",
   "id": "d7905674",
   "metadata": {},
   "source": [
    "## Lesson 2: A closer look into OFRAK unpacking and the resource tree"
   ]
  },
  {
   "cell_type": "markdown",
   "id": "5c98bff3",
   "metadata": {},
   "source": [
    "**Objectives**: unpack a resource; learn about OFRAK components; learn about auto-analysis, tags, and the resource tree; filter the resource tree"
   ]
  },
  {
   "cell_type": "markdown",
   "id": "8267f57c",
   "metadata": {},
   "source": [
    "Let's dive a bit deeper into the binary."
   ]
  },
  {
   "cell_type": "code",
   "execution_count": 1,
   "id": "4f0b5a52",
   "metadata": {},
   "outputs": [],
   "source": [
    "from ofrak import OFRAK\n",
    "from ofrak_tutorial.helper_functions import create_hello_world_binary\n",
    "\n",
    "create_hello_world_binary()\n",
    "\n",
    "ofrak = OFRAK()\n",
    "basic_context = await ofrak.create_ofrak_context()\n",
    "root_resource = await basic_context.create_root_resource_from_file(\"hello_world\")"
   ]
  },
  {
   "cell_type": "markdown",
   "id": "57e0b95b",
   "metadata": {},
   "source": [
    "To get more information about this binary, we want to identify what type of file it is, analyze it for attributes, and unpack it into child resources. We can do this all at once with one function call in OFRAK."
   ]
  },
  {
   "cell_type": "code",
   "execution_count": 2,
   "id": "1c3e9a0c",
   "metadata": {},
   "outputs": [],
   "source": [
    "unpack_result = await root_resource.unpack_recursively()"
   ]
  },
  {
   "cell_type": "markdown",
   "id": "1fce1bd3",
   "metadata": {},
   "source": [
    "The result of calling `unpack_recursively()` is a `ComponentRunResult` object. The details of this object are not important, but it contains two significant pieces of information:"
   ]
  },
  {
   "cell_type": "markdown",
   "id": "c229da79",
   "metadata": {},
   "source": [
    "- A number of resources were created and modified:"
   ]
  },
  {
   "cell_type": "code",
   "execution_count": 3,
   "id": "3e3fcd40",
   "metadata": {},
   "outputs": [
    {
     "name": "stdout",
     "output_type": "stream",
     "text": [
      "240 resources created\n",
      "241 resources modified\n"
     ]
    }
   ],
   "source": [
    "print(f\"{len(unpack_result.resources_created)} resources created\")\n",
    "print(f\"{len(unpack_result.resources_modified)} resources modified\")"
   ]
  },
  {
   "cell_type": "markdown",
   "id": "1557d982",
   "metadata": {},
   "source": [
    "- Several **components** were run on our resource, including `MagicMimeIdentifier` and `ElfUnpacker`:"
   ]
  },
  {
   "cell_type": "code",
   "execution_count": 4,
   "id": "16b6642d",
   "metadata": {},
   "outputs": [
    {
     "name": "stdout",
     "output_type": "stream",
     "text": [
      "components run: [b'ApkIdentifier', b'DeviceTreeBlobIdentifier', b'ElfDynamicSectionUnpacker', b'ElfPointerArraySectionUnpacker', b'ElfRelaUnpacker', b'ElfSymbolUnpacker', b'ElfUnpacker', b'MagicDescriptionIdentifier', b'MagicMimeIdentifier', b'OpenWrtIdentifier', b'StringsUnpacker', b'UbiIdentifier', b'UbifsIdentifier', b'Uf2FileIdentifier']\n"
     ]
    }
   ],
   "source": [
    "print(f\"components run: {sorted(unpack_result.components_run)}\")"
   ]
  },
  {
   "cell_type": "markdown",
   "id": "507b1856",
   "metadata": {},
   "source": [
    "Components in OFRAK are the objects that perform actions on resources. Components can be: **unpackers**, **packers**, **modifiers**, **identifiers**, or **analyzers**.\n",
    "\n",
    "Here's a typical OFRAK workflow in terms of these components:\n",
    "\n",
    "- create an OFRAK resource from something, typically a file on disk\n",
    "  + **unpack** the resource (this step uses **identifiers**)\n",
    "    - **modify** the resource (possibly using **analyzers**)\n",
    "  + re-**pack** the resource\n",
    "- export the modified and repacked resource, typically to a file on disk\n",
    "\n",
    "(Note: [Lesson 1](1_simple_string_modification.ipynb) presented a simpler workflow: as we only needed to access and modify the binary data of the file, unpacking and repacking weren't necessary, so we only created the resource from a file, modified its binary data, and flushed the result to disk.)\n",
    "\n",
    "Back to what happened when unpacking our hello world binary. Here, the `MagicMimeIdentifier` used `libmagic` on the binary to try and determine what type of file it is – in this case, it's an ELF executable. Based on this, OFRAK knows it needs to run the `ElfUnpacker`, which unpacked the binary into sections based on the known ELF file structure.\n",
    "\n",
    "Components can be manually selected and run on resources, or they can be run automatically, as we did here.\n",
    "\n",
    "Since we only had one resource before, but several were modified, it seems like the ELF unpacker has unpacked this file into some children! What does the resource tree look like now?"
   ]
  },
  {
   "cell_type": "code",
   "execution_count": 5,
   "id": "824d28d3",
   "metadata": {
    "tags": [
     "nbval-ignore-output"
    ]
   },
   "outputs": [
    {
     "name": "stdout",
     "output_type": "stream",
     "text": [
      "┌a5c49dd26f224bb78a5ad6ff10ab80c1: [caption=(Elf, File: hello_world), attributes=(AttributesType[FilesystemEntry], Magic), global_offset=(0x0-0x4020), parent_offset=(0x0-0x0), data_hash=f5cd0893]\n",
      "├────931a90f06a554e55bfb445c68d44aeb6: [caption=(ElfBasicHeader), attributes=(Data, AttributesType[ElfBasicHeader]), global_offset=(0x0-0x10), parent_offset=(0x0-0x10), data_hex=7f454c46020101000000000000000000]\n",
      "├────99d957fbc0ae4c658dd27d2e916cd3c4: [caption=(ElfHeader), attributes=(Data, AttributesType[ElfHeader]), global_offset=(0x10-0x40), parent_offset=(0x10-0x40), data_hex=02003e000100000040104000000000004000000000000000e03800000000000000000000400038000b0040001d001c00]\n",
      "├────671177d59166495380997a3bfda764f0: [caption=(ElfSectionHeader), attributes=(Data, AttributesType[ElfSectionStructure], AttributesType[ElfSectionHeader]), global_offset=(0x38e0-0x3920), parent_offset=(0x38e0-0x3920), data_hex=00000000000000000000000000000000000000000000000000000000000000000000000000000000000000000000000000000000000000000000000000000000]\n",
      "├────dda2ead0461643c9b7db86e03e183083: [caption=(ElfSection), attributes=(AttributesType[ElfSectionStructure])]\n",
      "├────72a9a50018f048b7b6fdf86e66517767: [caption=(ElfSectionHeader), attributes=(Data, AttributesType[ElfSectionStructure], AttributesType[ElfSectionHeader]), global_offset=(0x3920-0x3960), parent_offset=(0x3920-0x3960), data_hex=1b000000010000000200000000000000a802400000000000a8020000000000001c00000000000000000000000000000001000000000000000000000000000000]\n",
      "├───┬32bb4025ec51480f99dcf9d77aa9dadf: [caption=(ElfSection), attributes=(Data, AttributesType[ElfSectionStructure]), global_offset=(0x2a8-0x2c4), parent_offset=(0x2a8-0x2c4), data_hex=2f6c696236342f6c642d6c696e75782d7838362d36342e736f2e3200]\n",
      "│   └────3450290c7ead4745835ea85afe0d5e84: [caption=(string: '/lib64/ld-linux-x86-64.so.2'), attributes=(Data, AttributesType[AsciiString]), global_offset=(0x2a8-0x2c4), parent_offset=(0x0-0x1c), data_hex=2f6c696236342f6c642d6c696e75782d7838362d36342e736f2e3200]\n",
      "├────f7ebd872a39c4aa69095d18c1fa6356d: [caption=(ElfSectionHeader), attributes=(Data, AttributesType[ElfSectionStructure], AttributesType[ElfSectionHeader]), global_offset=(0x3960-0x39a0), parent_offset=(0x3960-0x39a0), data_hex=23000000070000000200000000000000c402400000000000c4020000000000002400000000000000000000000000000004000000000000000000000000000000]\n",
      "├───┬696f353d58b04cbcb973af537018f2e2: [caption=(ElfSection), attributes=(Data, AttributesType[ElfSectionStructure]), global_offset=(0x2c4-0x2e8), parent_offset=(0x2c4-0x2e8), data_hex=040000001400000003000000474e550017fb4e8bc7504a89fa3603690cb745adfd747237]\n",
      "│   └────f01388b0c68040f3b29882b376793887: [caption=(string: 'GNU'), attributes=(Data, AttributesType[AsciiString]), global_offset=(0x2d0-0x2d4), parent_offset=(0xc-0x10), data_hex=474e5500]\n",
      "├────db27e6857442424d9aa42bf00272c902: [caption=(ElfSectionHeader), attributes=(Data, AttributesType[ElfSectionStructure], AttributesType[ElfSectionHeader]), global_offset=(0x39a0-0x39e0), parent_offset=(0x39a0-0x39e0), data_hex=36000000070000000200000000000000e802400000000000e8020000000000002000000000000000000000000000000004000000000000000000000000000000]\n",
      "├───┬7a19c35462d14ac697cdd66910d4a990: [caption=(ElfSection), attributes=(Data, AttributesType[ElfSectionStructure]), global_offset=(0x2e8-0x308), parent_offset=(0x2e8-0x308), data_hex=040000001000000001000000474e550000000000030000000200000000000000]\n",
      "│   └────8d6ace47e17d4adf80a7aaa098005bb0: [caption=(string: 'GNU'), attributes=(Data, AttributesType[AsciiString]), global_offset=(0x2f4-0x2f8), parent_offset=(0xc-0x10), data_hex=474e5500]\n",
      "├────9461425a866f442a839d28371d1e23fb: [caption=(ElfSectionHeader), attributes=(Data, AttributesType[ElfSectionStructure], AttributesType[ElfSectionHeader]), global_offset=(0x39e0-0x3a20), parent_offset=(0x39e0-0x3a20), data_hex=44000000f6ffff6f0200000000000000080340000000000008030000000000001c00000000000000050000000000000008000000000000000000000000000000]\n",
      "├────53a4aadfeae542b480c37fd1133314ff: [caption=(ElfSection), attributes=(Data, AttributesType[ElfSectionStructure]), global_offset=(0x308-0x324), parent_offset=(0x308-0x324), data_hex=01000000010000000100000000000000000000000000000000000000]\n",
      "├────faf10ed697ce461f9d82c1be4221927f: [caption=(ElfSectionHeader), attributes=(Data, AttributesType[ElfSectionStructure], AttributesType[ElfSectionHeader]), global_offset=(0x3a20-0x3a60), parent_offset=(0x3a20-0x3a60), data_hex=4e0000000b0000000200000000000000280340000000000028030000000000006000000000000000060000000100000008000000000000001800000000000000]\n",
      "├───┬858bf2a78ca247bb82d8cce186888285: [caption=(ElfDynSymbolSection: .dynsym), attributes=(Data, AttributesType[ElfSectionStructure], AttributesType[NamedProgramSection], AttributesType[MemoryRegion], AttributesType[Addressable]), global_offset=(0x328-0x388), parent_offset=(0x328-0x388), data_hex=0000000000000000000000000000000000000000000000000100000012000000000000000000000000000000000000000600000012000000000000000000000000000000000000002e0000002000000000000000000000000000000000000000]\n",
      "│   ├────c1d2714cd40a4585b5f993f1be6d77b6: [caption=(ElfSymbol), attributes=(Data, AttributesType[ElfSymbolStructure]), global_offset=(0x328-0x340), parent_offset=(0x0-0x18), data_hex=000000000000000000000000000000000000000000000000]\n",
      "│   ├────1eb5c61adafc49c6b417ecd0a2b11276: [caption=(ElfSymbol), attributes=(Data, AttributesType[ElfSymbolStructure]), global_offset=(0x340-0x358), parent_offset=(0x18-0x30), data_hex=010000001200000000000000000000000000000000000000]\n",
      "│   ├────f3cd6398f7964fe2bd6139ba4aa49505: [caption=(ElfSymbol), attributes=(Data, AttributesType[ElfSymbolStructure]), global_offset=(0x358-0x370), parent_offset=(0x30-0x48), data_hex=060000001200000000000000000000000000000000000000]\n",
      "│   └────40c329c571da4040a651e977b7b4fad6: [caption=(ElfSymbol), attributes=(Data, AttributesType[ElfSymbolStructure]), global_offset=(0x370-0x388), parent_offset=(0x48-0x60), data_hex=2e0000002000000000000000000000000000000000000000]\n",
      "├────f740d0d72348421fb549c7de6fe7de1c: [caption=(ElfSectionHeader), attributes=(Data, AttributesType[ElfSectionStructure], AttributesType[ElfSectionHeader]), global_offset=(0x3a60-0x3aa0), parent_offset=(0x3a60-0x3aa0), data_hex=56000000030000000200000000000000880340000000000088030000000000003d00000000000000000000000000000001000000000000000000000000000000]\n",
      "├───┬a6146a8edd1e44aca9030d95a209ba71: [caption=(ElfSection, ElfStringSection), attributes=(Data, AttributesType[ElfSectionStructure]), global_offset=(0x388-0x3c5), parent_offset=(0x388-0x3c5), data_hex=0070757473005f5f6c6962635f73746172745f6d61696e006c6962632e736f2e3600474c4942435f322e322e35005f5f676d6f6e5f73746172745f5f00]\n",
      "│   ├────37884d72a15d4d668182721a7709eb27: [caption=(string: 'puts'), attributes=(Data, AttributesType[AsciiString]), global_offset=(0x389-0x38e), parent_offset=(0x1-0x6), data_hex=7075747300]\n",
      "│   ├────c18792e9bba7418a8eaf844757e9a1e1: [caption=(string: '__libc_start_main'), attributes=(Data, AttributesType[AsciiString]), global_offset=(0x38e-0x3a0), parent_offset=(0x6-0x18), data_hex=5f5f6c6962635f73746172745f6d61696e00]\n",
      "│   ├────76e942414f4449989898b851f865479e: [caption=(string: 'libc.so.6'), attributes=(Data, AttributesType[AsciiString]), global_offset=(0x3a0-0x3aa), parent_offset=(0x18-0x22), data_hex=6c6962632e736f2e3600]\n",
      "│   ├────610f5e3ce42f4f8596b2327ba22b89ce: [caption=(string: 'GLIBC_2.2.5'), attributes=(Data, AttributesType[AsciiString]), global_offset=(0x3aa-0x3b6), parent_offset=(0x22-0x2e), data_hex=474c4942435f322e322e3500]\n",
      "│   └────068336e239464429a78744a64f94796d: [caption=(string: '__gmon_start__'), attributes=(Data, AttributesType[AsciiString]), global_offset=(0x3b6-0x3c5), parent_offset=(0x2e-0x3d), data_hex=5f5f676d6f6e5f73746172745f5f00]\n",
      "├────7dec697a3f7f4807b2f5c8a1628f98f5: [caption=(ElfSectionHeader), attributes=(Data, AttributesType[ElfSectionStructure], AttributesType[ElfSectionHeader]), global_offset=(0x3aa0-0x3ae0), parent_offset=(0x3aa0-0x3ae0), data_hex=5e000000ffffff6f0200000000000000c603400000000000c6030000000000000800000000000000050000000000000002000000000000000200000000000000]\n",
      "├────38324503e0bf4526a5fc803a6ca5341f: [caption=(ElfSection), attributes=(Data, AttributesType[ElfSectionStructure]), global_offset=(0x3c6-0x3ce), parent_offset=(0x3c6-0x3ce), data_hex=0000020002000000]\n",
      "├────e872db918d67416f86fa82bd7365910a: [caption=(ElfSectionHeader), attributes=(Data, AttributesType[ElfSectionStructure], AttributesType[ElfSectionHeader]), global_offset=(0x3ae0-0x3b20), parent_offset=(0x3ae0-0x3b20), data_hex=6b000000feffff6f0200000000000000d003400000000000d0030000000000002000000000000000060000000100000008000000000000000000000000000000]\n",
      "├───┬389b7b99e4ee4e37b2afaa5bc863062e: [caption=(ElfSection), attributes=(Data, AttributesType[ElfSectionStructure]), global_offset=(0x3d0-0x3f0), parent_offset=(0x3d0-0x3f0), data_hex=01000100180000001000000000000000751a6909000002002200000000000000]\n",
      "│   └────fba047efeac14aceb8258e0fa9c6b996: [caption=(string: 'i\t'), attributes=(Data, AttributesType[AsciiString]), global_offset=(0x3e2-0x3e5), parent_offset=(0x12-0x15), data_hex=690900]\n",
      "├────8351601478e74e3e9a439b75b806cde1: [caption=(ElfSectionHeader), attributes=(Data, AttributesType[ElfSectionStructure], AttributesType[ElfSectionHeader]), global_offset=(0x3b20-0x3b60), parent_offset=(0x3b20-0x3b60), data_hex=7a000000040000000200000000000000f003400000000000f0030000000000003000000000000000050000000000000008000000000000001800000000000000]\n",
      "├───┬f37e3ab202d6424b96ed64849f3af863: [caption=(ElfRelaSection: .rela.dyn), attributes=(Data, AttributesType[ElfSectionStructure], AttributesType[NamedProgramSection], AttributesType[MemoryRegion], AttributesType[Addressable]), global_offset=(0x3f0-0x420), parent_offset=(0x3f0-0x420), data_hex=f03f40000000000006000000020000000000000000000000f83f40000000000006000000030000000000000000000000]\n",
      "│   ├────79d91f4e9d5a4c86af83751bf625740c: [caption=(ElfRelaEntry), attributes=(Data), global_offset=(0x3f0-0x408), parent_offset=(0x0-0x18), data_hex=f03f40000000000006000000020000000000000000000000]\n",
      "│   └────877837cdbfba40b7b6162badaae1ba41: [caption=(ElfRelaEntry), attributes=(Data), global_offset=(0x408-0x420), parent_offset=(0x18-0x30), data_hex=f83f40000000000006000000030000000000000000000000]\n",
      "├────39d9ad9747cc4f64a90d48af8cbb9580: [caption=(ElfSectionHeader), attributes=(Data, AttributesType[ElfSectionStructure], AttributesType[ElfSectionHeader]), global_offset=(0x3b60-0x3ba0), parent_offset=(0x3b60-0x3ba0), data_hex=84000000040000004200000000000000200440000000000020040000000000001800000000000000050000001600000008000000000000001800000000000000]\n",
      "├───┬337d596e83c041de8a89f226136681e2: [caption=(ElfRelaSection: .rela.plt), attributes=(Data, AttributesType[ElfSectionStructure], AttributesType[NamedProgramSection], AttributesType[MemoryRegion], AttributesType[Addressable]), global_offset=(0x420-0x438), parent_offset=(0x420-0x438), data_hex=184040000000000007000000010000000000000000000000]\n",
      "│   └────ff3dd5e68beb4e1f8f7bbb25c41dba98: [caption=(ElfRelaEntry), attributes=(Data), global_offset=(0x420-0x438), parent_offset=(0x0-0x18), data_hex=184040000000000007000000010000000000000000000000]\n",
      "├────bab9240c0b7e4ae9950b35392d1fba9c: [caption=(ElfSectionHeader), attributes=(Data, AttributesType[ElfSectionStructure], AttributesType[ElfSectionHeader]), global_offset=(0x3ba0-0x3be0), parent_offset=(0x3ba0-0x3be0), data_hex=8e000000010000000600000000000000001040000000000000100000000000001700000000000000000000000000000004000000000000000000000000000000]\n",
      "├────d53f13b1d70c486397c25938311aeeab: [caption=(CodeRegion, ElfSection), attributes=(Data, AttributesType[ElfSectionStructure]), global_offset=(0x1000-0x1017), parent_offset=(0x1000-0x1017), data_hex=4883ec08488b05ed2f00004885c07402ffd04883c408c3]\n",
      "├────851274651d3a4ed7a659d5e86c74def5: [caption=(ElfSectionHeader), attributes=(Data, AttributesType[ElfSectionStructure], AttributesType[ElfSectionHeader]), global_offset=(0x3be0-0x3c20), parent_offset=(0x3be0-0x3c20), data_hex=89000000010000000600000000000000201040000000000020100000000000002000000000000000000000000000000010000000000000001000000000000000]\n",
      "├────565fc63a77494276bafea235ae00344e: [caption=(CodeRegion, ElfSection), attributes=(Data, AttributesType[ElfSectionStructure]), global_offset=(0x1020-0x1040), parent_offset=(0x1020-0x1040), data_hex=ff35e22f0000ff25e42f00000f1f4000ff25e22f00006800000000e9e0ffffff]\n",
      "├────2298029fa70846288abbbdb6d70dba5f: [caption=(ElfSectionHeader), attributes=(Data, AttributesType[ElfSectionStructure], AttributesType[ElfSectionHeader]), global_offset=(0x3c20-0x3c60), parent_offset=(0x3c20-0x3c60), data_hex=94000000010000000600000000000000401040000000000040100000000000006101000000000000000000000000000010000000000000000000000000000000]\n",
      "├────1200d9c6b7ba4406bd97d44ef17fea4b: [caption=(CodeRegion, ElfSection), attributes=(Data, AttributesType[ElfSectionStructure]), global_offset=(0x1040-0x11a1), parent_offset=(0x1040-0x11a1), data_hash=1eeedffe]\n",
      "├────d144e1261ccb444a8159bf767a973c20: [caption=(ElfSectionHeader), attributes=(Data, AttributesType[ElfSectionStructure], AttributesType[ElfSectionHeader]), global_offset=(0x3c60-0x3ca0), parent_offset=(0x3c60-0x3ca0), data_hex=9a000000010000000600000000000000a411400000000000a4110000000000000900000000000000000000000000000004000000000000000000000000000000]\n",
      "├────9fb3213d0af14510828108089c1d521b: [caption=(CodeRegion, ElfSection), attributes=(Data, AttributesType[ElfSectionStructure]), global_offset=(0x11a4-0x11ad), parent_offset=(0x11a4-0x11ad), data_hex=4883ec084883c408c3]\n",
      "├────0848476f439c4aa2b9809063a2c8081a: [caption=(ElfSectionHeader), attributes=(Data, AttributesType[ElfSectionStructure], AttributesType[ElfSectionHeader]), global_offset=(0x3ca0-0x3ce0), parent_offset=(0x3ca0-0x3ce0), data_hex=a0000000010000000200000000000000002040000000000000200000000000001200000000000000000000000000000004000000000000000000000000000000]\n",
      "├───┬b473b26106ac441b9e54171d47cdfa40: [caption=(ElfSection), attributes=(Data, AttributesType[ElfSectionStructure]), global_offset=(0x2000-0x2012), parent_offset=(0x2000-0x2012), data_hex=0100020048656c6c6f2c20576f726c642100]\n",
      "│   └────4d904e2d99da484d8ebc635c82b3f1fe: [caption=(string: 'Hello, World!'), attributes=(Data, AttributesType[AsciiString]), global_offset=(0x2004-0x2012), parent_offset=(0x4-0x12), data_hex=48656c6c6f2c20576f726c642100]\n",
      "├────a9a19b9c5cba4366913b338778f377eb: [caption=(ElfSectionHeader), attributes=(Data, AttributesType[ElfSectionStructure], AttributesType[ElfSectionHeader]), global_offset=(0x3ce0-0x3d20), parent_offset=(0x3ce0-0x3d20), data_hex=a8000000010000000200000000000000142040000000000014200000000000003c00000000000000000000000000000004000000000000000000000000000000]\n",
      "├───┬1ab4bcc3d1314e34b56bf0798000b712: [caption=(ElfSection), attributes=(Data, AttributesType[ElfSectionStructure]), global_offset=(0x2014-0x2050), parent_offset=(0x2014-0x2050), data_hex=011b033b38000000060000000cf0ffff940000002cf0ffff540000005cf0ffff800000000ef1ffffbc0000002cf1ffffdc0000008cf1ffff24010000]\n",
      "│   └────0bf1f6f2187b453fbf0cf595d5a68731: [caption=(string: ';8'), attributes=(Data, AttributesType[AsciiString]), global_offset=(0x2017-0x201a), parent_offset=(0x3-0x6), data_hex=3b3800]\n",
      "├────101b8c782dd54141811ea3e807988b73: [caption=(ElfSectionHeader), attributes=(Data, AttributesType[ElfSectionStructure], AttributesType[ElfSectionHeader]), global_offset=(0x3d20-0x3d60), parent_offset=(0x3d20-0x3d60), data_hex=b6000000010000000200000000000000502040000000000050200000000000000001000000000000000000000000000008000000000000000000000000000000]\n",
      "├───┬3350874dceb54bf79a0ac41cc2a7c25a: [caption=(ElfSection), attributes=(Data, AttributesType[ElfSectionStructure]), global_offset=(0x2050-0x2150), parent_offset=(0x2050-0x2150), data_hash=ef716b33]\n",
      "│   ├────595f99fdb3fc4e6a9d695070e61b9bb3: [caption=(string: 'zR'), attributes=(Data, AttributesType[AsciiString]), global_offset=(0x2059-0x205c), parent_offset=(0x9-0xc), data_hex=7a5200]\n",
      "│   ├────7e9fb6357ff0494ab81188da589fdb0e: [caption=(string: 'zR'), attributes=(Data, AttributesType[AsciiString]), global_offset=(0x2085-0x2088), parent_offset=(0x35-0x38), data_hex=7a5200]\n",
      "│   └────52e4dd2b6e2f4f4da3f4f2d3e95cc223: [caption=(string: ';*3$\"'), attributes=(Data, AttributesType[AsciiString]), global_offset=(0x20c7-0x20cd), parent_offset=(0x77-0x7d), data_hex=3b2a33242200]\n",
      "├────2e207290286544f2aeb6cc686e0c48e0: [caption=(ElfSectionHeader), attributes=(Data, AttributesType[ElfSectionStructure], AttributesType[ElfSectionHeader]), global_offset=(0x3d60-0x3da0), parent_offset=(0x3d60-0x3da0), data_hex=c00000000e0000000300000000000000103e400000000000102e0000000000000800000000000000000000000000000008000000000000000800000000000000]\n",
      "├───┬df1e9c44ed28444f9a2856e643a92a0c: [caption=(ElfSection, ElfInitArraySection), attributes=(Data, AttributesType[ElfSectionStructure]), global_offset=(0x2e10-0x2e18), parent_offset=(0x2e10-0x2e18), data_hex=2011400000000000]\n",
      "│   └────bc9f1bdd9684408dbea4b0ef5addbbfc: [caption=(ElfVirtualAddress), attributes=(Data), global_offset=(0x2e10-0x2e18), parent_offset=(0x0-0x8), data_hex=2011400000000000]\n",
      "├────f07749153fbd47a5903be326c4da7174: [caption=(ElfSectionHeader), attributes=(Data, AttributesType[ElfSectionStructure], AttributesType[ElfSectionHeader]), global_offset=(0x3da0-0x3de0), parent_offset=(0x3da0-0x3de0), data_hex=cc0000000f0000000300000000000000183e400000000000182e0000000000000800000000000000000000000000000008000000000000000800000000000000]\n",
      "├───┬23266aa9e76444ce86b97ba64491c29a: [caption=(ElfFiniArraySection, ElfSection), attributes=(Data, AttributesType[ElfSectionStructure]), global_offset=(0x2e18-0x2e20), parent_offset=(0x2e18-0x2e20), data_hex=f010400000000000]\n",
      "│   └────2f229a15b7e84ca798f342f2778d6e7d: [caption=(ElfVirtualAddress), attributes=(Data), global_offset=(0x2e18-0x2e20), parent_offset=(0x0-0x8), data_hex=f010400000000000]\n",
      "├────e21bd25cf9534e38afe44a13cdf9394b: [caption=(ElfSectionHeader), attributes=(Data, AttributesType[ElfSectionStructure], AttributesType[ElfSectionHeader]), global_offset=(0x3de0-0x3e20), parent_offset=(0x3de0-0x3e20), data_hex=d8000000060000000300000000000000203e400000000000202e000000000000d001000000000000060000000000000008000000000000001000000000000000]\n",
      "├───┬b3a8ea72360b466cb742ce187d393cd8: [caption=(ElfDynamicSection: .dynamic), attributes=(Data, AttributesType[ElfSectionStructure], AttributesType[NamedProgramSection], AttributesType[MemoryRegion], AttributesType[Addressable]), global_offset=(0x2e20-0x2ff0), parent_offset=(0x2e20-0x2ff0), data_hash=4438de54]\n",
      "│   ├────902fe84ed9614a2192c76f9248d9e176: [caption=(ElfDynamicEntry), attributes=(Data), global_offset=(0x2e20-0x2e30), parent_offset=(0x0-0x10), data_hex=01000000000000001800000000000000]\n",
      "│   ├────c7715e03d69547a9a1d45cb1e68799df: [caption=(ElfDynamicEntry), attributes=(Data), global_offset=(0x2e30-0x2e40), parent_offset=(0x10-0x20), data_hex=0c000000000000000010400000000000]\n",
      "│   ├────599a7b820fa24b34b0f229e29bb999d6: [caption=(ElfDynamicEntry), attributes=(Data), global_offset=(0x2e40-0x2e50), parent_offset=(0x20-0x30), data_hex=0d00000000000000a411400000000000]\n",
      "│   ├────9578e852c8424cddbe1b5c5e774b2be2: [caption=(ElfDynamicEntry), attributes=(Data), global_offset=(0x2e50-0x2e60), parent_offset=(0x30-0x40), data_hex=1900000000000000103e400000000000]\n",
      "│   ├────34f2e461333a43fe9f6fbf260a1e3fe1: [caption=(ElfDynamicEntry), attributes=(Data), global_offset=(0x2e60-0x2e70), parent_offset=(0x40-0x50), data_hex=1b000000000000000800000000000000]\n",
      "│   ├────9cdacdf7eea640a2ba32f3e98a9d264a: [caption=(ElfDynamicEntry), attributes=(Data), global_offset=(0x2e70-0x2e80), parent_offset=(0x50-0x60), data_hex=1a00000000000000183e400000000000]\n",
      "│   ├────ee67b77dd99a434293fb9b942a6d562c: [caption=(ElfDynamicEntry), attributes=(Data), global_offset=(0x2e80-0x2e90), parent_offset=(0x60-0x70), data_hex=1c000000000000000800000000000000]\n",
      "│   ├────471d4598dbb74dec8c9657944cfbd847: [caption=(ElfDynamicEntry), attributes=(Data), global_offset=(0x2e90-0x2ea0), parent_offset=(0x70-0x80), data_hex=f5feff6f000000000803400000000000]\n",
      "│   ├────6bb19c21cc5a4dfc99e9e324b0f949dd: [caption=(ElfDynamicEntry), attributes=(Data), global_offset=(0x2ea0-0x2eb0), parent_offset=(0x80-0x90), data_hex=05000000000000008803400000000000]\n",
      "│   ├────e9edeb23fd66451fb5793ed446579575: [caption=(ElfDynamicEntry), attributes=(Data), global_offset=(0x2eb0-0x2ec0), parent_offset=(0x90-0xa0), data_hex=06000000000000002803400000000000]\n",
      "│   ├────a0968874e2b94bb1a11f4609edcc74e5: [caption=(ElfDynamicEntry), attributes=(Data), global_offset=(0x2ec0-0x2ed0), parent_offset=(0xa0-0xb0), data_hex=0a000000000000003d00000000000000]\n",
      "│   ├────8b77f44ed03046c0a62e208e13996625: [caption=(ElfDynamicEntry), attributes=(Data), global_offset=(0x2ed0-0x2ee0), parent_offset=(0xb0-0xc0), data_hex=0b000000000000001800000000000000]\n",
      "│   ├────c3891a7097de4163bb8fccf69e0392b3: [caption=(ElfDynamicEntry), attributes=(Data), global_offset=(0x2ee0-0x2ef0), parent_offset=(0xc0-0xd0), data_hex=15000000000000000000000000000000]\n",
      "│   ├────a7e962655c3a483ba9420e51e5ad43ba: [caption=(ElfDynamicEntry), attributes=(Data), global_offset=(0x2ef0-0x2f00), parent_offset=(0xd0-0xe0), data_hex=03000000000000000040400000000000]\n",
      "│   ├────c3e747cea5854bffb2425446983c7c2b: [caption=(ElfDynamicEntry), attributes=(Data), global_offset=(0x2f00-0x2f10), parent_offset=(0xe0-0xf0), data_hex=02000000000000001800000000000000]\n",
      "│   ├────51fba726e59544789b8ec161af952aef: [caption=(ElfDynamicEntry), attributes=(Data), global_offset=(0x2f10-0x2f20), parent_offset=(0xf0-0x100), data_hex=14000000000000000700000000000000]\n",
      "│   ├────31bfea7b52e64f44a99514aa286a72c1: [caption=(ElfDynamicEntry), attributes=(Data), global_offset=(0x2f20-0x2f30), parent_offset=(0x100-0x110), data_hex=17000000000000002004400000000000]\n",
      "│   ├────5daca21e8eed4d57ae8b315fdce77f07: [caption=(ElfDynamicEntry), attributes=(Data), global_offset=(0x2f30-0x2f40), parent_offset=(0x110-0x120), data_hex=0700000000000000f003400000000000]\n",
      "│   ├────c3f9a978dac34c629f88946c9f580e0c: [caption=(ElfDynamicEntry), attributes=(Data), global_offset=(0x2f40-0x2f50), parent_offset=(0x120-0x130), data_hex=08000000000000003000000000000000]\n",
      "│   ├────d60c904bf7124361b14c54dcd7b71e9d: [caption=(ElfDynamicEntry), attributes=(Data), global_offset=(0x2f50-0x2f60), parent_offset=(0x130-0x140), data_hex=09000000000000001800000000000000]\n",
      "│   ├────dc9464d5f93b4bb5998d728b51b64d1e: [caption=(ElfDynamicEntry), attributes=(Data), global_offset=(0x2f60-0x2f70), parent_offset=(0x140-0x150), data_hex=feffff6f00000000d003400000000000]\n",
      "│   ├────23ad5d4b433447e3bcba200673dd6cdd: [caption=(ElfDynamicEntry), attributes=(Data), global_offset=(0x2f70-0x2f80), parent_offset=(0x150-0x160), data_hex=ffffff6f000000000100000000000000]\n",
      "│   ├────d4d1f7feb3274478baec7d31c61fd719: [caption=(ElfDynamicEntry), attributes=(Data), global_offset=(0x2f80-0x2f90), parent_offset=(0x160-0x170), data_hex=f0ffff6f00000000c603400000000000]\n",
      "│   ├────a0c1c7b9ec784620b773a2912189974b: [caption=(ElfDynamicEntry), attributes=(Data), global_offset=(0x2f90-0x2fa0), parent_offset=(0x170-0x180), data_hex=00000000000000000000000000000000]\n",
      "│   ├────4323221e99b241adbc70767fbd2ebdc3: [caption=(ElfDynamicEntry), attributes=(Data), global_offset=(0x2fa0-0x2fb0), parent_offset=(0x180-0x190), data_hex=00000000000000000000000000000000]\n",
      "│   ├────a24230492cf242aaa153c78cc553a561: [caption=(ElfDynamicEntry), attributes=(Data), global_offset=(0x2fb0-0x2fc0), parent_offset=(0x190-0x1a0), data_hex=00000000000000000000000000000000]\n",
      "│   ├────f700dee25fbc448499f59f65d8d1d3c0: [caption=(ElfDynamicEntry), attributes=(Data), global_offset=(0x2fc0-0x2fd0), parent_offset=(0x1a0-0x1b0), data_hex=00000000000000000000000000000000]\n",
      "│   ├────b8342275bba5488285f75700a6300fd3: [caption=(ElfDynamicEntry), attributes=(Data), global_offset=(0x2fd0-0x2fe0), parent_offset=(0x1b0-0x1c0), data_hex=00000000000000000000000000000000]\n",
      "│   └────a0129024378649c792ab07f1f6e2dfa4: [caption=(ElfDynamicEntry), attributes=(Data), global_offset=(0x2fe0-0x2ff0), parent_offset=(0x1c0-0x1d0), data_hex=00000000000000000000000000000000]\n",
      "├────20f1b6b8e51242208f8eb6de7b6a0369: [caption=(ElfSectionHeader), attributes=(Data, AttributesType[ElfSectionStructure], AttributesType[ElfSectionHeader]), global_offset=(0x3e20-0x3e60), parent_offset=(0x3e20-0x3e60), data_hex=e1000000010000000300000000000000f03f400000000000f02f0000000000001000000000000000000000000000000008000000000000000800000000000000]\n",
      "├────3ac284dee3bf46b0b60822d6259867ca: [caption=(ElfSection), attributes=(Data, AttributesType[ElfSectionStructure]), global_offset=(0x2ff0-0x3000), parent_offset=(0x2ff0-0x3000), data_hex=00000000000000000000000000000000]\n",
      "├────3deecb4c83954845a615b66733fa3bdb: [caption=(ElfSectionHeader), attributes=(Data, AttributesType[ElfSectionStructure], AttributesType[ElfSectionHeader]), global_offset=(0x3e60-0x3ea0), parent_offset=(0x3e60-0x3ea0), data_hex=e6000000010000000300000000000000004040000000000000300000000000002000000000000000000000000000000008000000000000000800000000000000]\n",
      "├───┬7af61b3a63014461b864c1c9e0d9c4a3: [caption=(ElfSection), attributes=(Data, AttributesType[ElfSectionStructure]), global_offset=(0x3000-0x3020), parent_offset=(0x3000-0x3020), data_hex=203e400000000000000000000000000000000000000000003610400000000000]\n",
      "│   └────89add08014f24faa8f2b69bfc87f16af: [caption=(string: ' >@'), attributes=(Data, AttributesType[AsciiString]), global_offset=(0x3000-0x3004), parent_offset=(0x0-0x4), data_hex=203e4000]\n",
      "├────fdad13db5cd84ace818229cf9d3b88c5: [caption=(ElfSectionHeader), attributes=(Data, AttributesType[ElfSectionStructure], AttributesType[ElfSectionHeader]), global_offset=(0x3ea0-0x3ee0), parent_offset=(0x3ea0-0x3ee0), data_hex=ef000000010000000300000000000000204040000000000020300000000000001000000000000000000000000000000008000000000000000000000000000000]\n",
      "├────ec6a44ecf3ed4926bd4872ef17abace2: [caption=(ElfSection), attributes=(Data, AttributesType[ElfSectionStructure]), global_offset=(0x3020-0x3030), parent_offset=(0x3020-0x3030), data_hex=00000000000000000000000000000000]\n",
      "├────f6257bc654ec4a738d8ff6a60c516922: [caption=(ElfSectionHeader), attributes=(Data, AttributesType[ElfSectionStructure], AttributesType[ElfSectionHeader]), global_offset=(0x3ee0-0x3f20), parent_offset=(0x3ee0-0x3f20), data_hex=f5000000080000000300000000000000304040000000000030300000000000000800000000000000000000000000000001000000000000000000000000000000]\n",
      "├────63c686482df44897a02205731c19347c: [caption=(ElfSection), attributes=(AttributesType[ElfSectionStructure])]\n",
      "├────e391d59b7d3441caafe60036655fb650: [caption=(ElfSectionHeader), attributes=(Data, AttributesType[ElfSectionStructure], AttributesType[ElfSectionHeader]), global_offset=(0x3f20-0x3f60), parent_offset=(0x3f20-0x3f60), data_hex=fa000000010000003000000000000000000000000000000030300000000000002700000000000000000000000000000001000000000000000100000000000000]\n",
      "├───┬ae47c11b4e6948f0aee6806ed2d8e14d: [caption=(ElfSection), attributes=(Data, AttributesType[ElfSectionStructure]), global_offset=(0x3030-0x3057), parent_offset=(0x3030-0x3057), data_hex=4743433a202844656269616e2031302e322e312d36292031302e322e3120323032313031313000]\n",
      "│   └────4c860a33917e4179beb7046fd6b7373d: [caption=(string: 'GCC: (Debian 10.2.1-6) 10.2.1 20210110'), attributes=(Data, AttributesType[AsciiString]), global_offset=(0x3030-0x3057), parent_offset=(0x0-0x27), data_hex=4743433a202844656269616e2031302e322e312d36292031302e322e3120323032313031313000]\n",
      "├────8cef7ecc21be4140bb2429dbe94c3b30: [caption=(ElfSectionHeader), attributes=(Data, AttributesType[ElfSectionStructure], AttributesType[ElfSectionHeader]), global_offset=(0x3f60-0x3fa0), parent_offset=(0x3f60-0x3fa0), data_hex=0100000002000000000000000000000000000000000000005830000000000000b8050000000000001b0000002b00000008000000000000001800000000000000]\n",
      "├───┬09bd05d14c20490b8cfd6986f935e847: [caption=(ElfSymbolSection: .symtab), attributes=(Data, AttributesType[ElfSectionStructure], AttributesType[NamedProgramSection], AttributesType[MemoryRegion], AttributesType[Addressable]), global_offset=(0x3058-0x3610), parent_offset=(0x3058-0x3610), data_hash=f6bc0737]\n",
      "│   ├────70ffe7ed42144806ab0e85fda9922050: [caption=(ElfSymbol), attributes=(Data, AttributesType[ElfSymbolStructure]), global_offset=(0x3058-0x3070), parent_offset=(0x0-0x18), data_hex=000000000000000000000000000000000000000000000000]\n",
      "│   ├────5a4283deb3214380ad283d3b6d075690: [caption=(ElfSymbol), attributes=(Data, AttributesType[ElfSymbolStructure]), global_offset=(0x3070-0x3088), parent_offset=(0x18-0x30), data_hex=0000000003000100a8024000000000000000000000000000]\n",
      "│   ├────3828457875064f44ab194f177c8eabef: [caption=(ElfSymbol), attributes=(Data, AttributesType[ElfSymbolStructure]), global_offset=(0x3088-0x30a0), parent_offset=(0x30-0x48), data_hex=0000000003000200c4024000000000000000000000000000]\n",
      "│   ├────42f268db029647a18382a25cd07a7812: [caption=(ElfSymbol), attributes=(Data, AttributesType[ElfSymbolStructure]), global_offset=(0x30a0-0x30b8), parent_offset=(0x48-0x60), data_hex=0000000003000300e8024000000000000000000000000000]\n",
      "│   ├────ae0880ea05c749a5b4fcd0039703a693: [caption=(ElfSymbol), attributes=(Data, AttributesType[ElfSymbolStructure]), global_offset=(0x30b8-0x30d0), parent_offset=(0x60-0x78), data_hex=000000000300040008034000000000000000000000000000]\n",
      "│   ├────3ae56bdc06e1462d87e85ad3c3102094: [caption=(ElfSymbol), attributes=(Data, AttributesType[ElfSymbolStructure]), global_offset=(0x30d0-0x30e8), parent_offset=(0x78-0x90), data_hex=000000000300050028034000000000000000000000000000]\n",
      "│   ├────d06f891b3e3647339e05b5c53a5ff679: [caption=(ElfSymbol), attributes=(Data, AttributesType[ElfSymbolStructure]), global_offset=(0x30e8-0x3100), parent_offset=(0x90-0xa8), data_hex=000000000300060088034000000000000000000000000000]\n",
      "│   ├────0d9d9f6013514a5fb80bd9ffbdb60204: [caption=(ElfSymbol), attributes=(Data, AttributesType[ElfSymbolStructure]), global_offset=(0x3100-0x3118), parent_offset=(0xa8-0xc0), data_hex=0000000003000700c6034000000000000000000000000000]\n",
      "│   ├────c5dedee3a6704afd919f244a0182ffc7: [caption=(ElfSymbol), attributes=(Data, AttributesType[ElfSymbolStructure]), global_offset=(0x3118-0x3130), parent_offset=(0xc0-0xd8), data_hex=0000000003000800d0034000000000000000000000000000]\n",
      "│   ├────40c2038848d84741924f4917ae030a73: [caption=(ElfSymbol), attributes=(Data, AttributesType[ElfSymbolStructure]), global_offset=(0x3130-0x3148), parent_offset=(0xd8-0xf0), data_hex=0000000003000900f0034000000000000000000000000000]\n",
      "│   ├────08f8be694b88475bb4f4ec2db5f2cb8e: [caption=(ElfSymbol), attributes=(Data, AttributesType[ElfSymbolStructure]), global_offset=(0x3148-0x3160), parent_offset=(0xf0-0x108), data_hex=0000000003000a0020044000000000000000000000000000]\n",
      "│   ├────f43547d90c254ba3a9f5a7b0917b089f: [caption=(ElfSymbol), attributes=(Data, AttributesType[ElfSymbolStructure]), global_offset=(0x3160-0x3178), parent_offset=(0x108-0x120), data_hex=0000000003000b0000104000000000000000000000000000]\n",
      "│   ├────d4546221abdc416f8f9e639f7894ce88: [caption=(ElfSymbol), attributes=(Data, AttributesType[ElfSymbolStructure]), global_offset=(0x3178-0x3190), parent_offset=(0x120-0x138), data_hex=0000000003000c0020104000000000000000000000000000]\n",
      "│   ├────174b8c300ee640a097e7ed3f1ea76ee5: [caption=(ElfSymbol), attributes=(Data, AttributesType[ElfSymbolStructure]), global_offset=(0x3190-0x31a8), parent_offset=(0x138-0x150), data_hex=0000000003000d0040104000000000000000000000000000]\n",
      "│   ├────954068f2e07042958ae86a177fe6f1fe: [caption=(ElfSymbol), attributes=(Data, AttributesType[ElfSymbolStructure]), global_offset=(0x31a8-0x31c0), parent_offset=(0x150-0x168), data_hex=0000000003000e00a4114000000000000000000000000000]\n",
      "│   ├────3c49e28946874f2cabe55c3307a2aca8: [caption=(ElfSymbol), attributes=(Data, AttributesType[ElfSymbolStructure]), global_offset=(0x31c0-0x31d8), parent_offset=(0x168-0x180), data_hex=0000000003000f0000204000000000000000000000000000]\n",
      "│   ├────6ed286b0c79f4f639ab444ad80a36ec2: [caption=(ElfSymbol), attributes=(Data, AttributesType[ElfSymbolStructure]), global_offset=(0x31d8-0x31f0), parent_offset=(0x180-0x198), data_hex=000000000300100014204000000000000000000000000000]\n",
      "│   ├────1c54b888e13c44f58741e227ef391e5a: [caption=(ElfSymbol), attributes=(Data, AttributesType[ElfSymbolStructure]), global_offset=(0x31f0-0x3208), parent_offset=(0x198-0x1b0), data_hex=000000000300110050204000000000000000000000000000]\n",
      "│   ├────0db848b9346e496d853efd15dee04dec: [caption=(ElfSymbol), attributes=(Data, AttributesType[ElfSymbolStructure]), global_offset=(0x3208-0x3220), parent_offset=(0x1b0-0x1c8), data_hex=0000000003001200103e4000000000000000000000000000]\n",
      "│   ├────54fb7008647749828ac7c36b45d83f6e: [caption=(ElfSymbol), attributes=(Data, AttributesType[ElfSymbolStructure]), global_offset=(0x3220-0x3238), parent_offset=(0x1c8-0x1e0), data_hex=0000000003001300183e4000000000000000000000000000]\n",
      "│   ├────d9b3fddddbca43acb96c24bc53ff3070: [caption=(ElfSymbol), attributes=(Data, AttributesType[ElfSymbolStructure]), global_offset=(0x3238-0x3250), parent_offset=(0x1e0-0x1f8), data_hex=0000000003001400203e4000000000000000000000000000]\n",
      "│   ├────4627991aaa6d464486b4e71670e08fad: [caption=(ElfSymbol), attributes=(Data, AttributesType[ElfSymbolStructure]), global_offset=(0x3250-0x3268), parent_offset=(0x1f8-0x210), data_hex=0000000003001500f03f4000000000000000000000000000]\n",
      "│   ├────8b1f77cf159d4e87b97bf1a3b772c9a4: [caption=(ElfSymbol), attributes=(Data, AttributesType[ElfSymbolStructure]), global_offset=(0x3268-0x3280), parent_offset=(0x210-0x228), data_hex=000000000300160000404000000000000000000000000000]\n",
      "│   ├────7871c261ff304feda07bd5b181283e7d: [caption=(ElfSymbol), attributes=(Data, AttributesType[ElfSymbolStructure]), global_offset=(0x3280-0x3298), parent_offset=(0x228-0x240), data_hex=000000000300170020404000000000000000000000000000]\n",
      "│   ├────b1fc756051154947a7c31ec525d03a48: [caption=(ElfSymbol), attributes=(Data, AttributesType[ElfSymbolStructure]), global_offset=(0x3298-0x32b0), parent_offset=(0x240-0x258), data_hex=000000000300180030404000000000000000000000000000]\n",
      "│   ├────174971ebaf02408fac50a388bda1b051: [caption=(ElfSymbol), attributes=(Data, AttributesType[ElfSymbolStructure]), global_offset=(0x32b0-0x32c8), parent_offset=(0x258-0x270), data_hex=000000000300190000000000000000000000000000000000]\n",
      "│   ├────0ae729f046984e01bc49672eb95ada6c: [caption=(ElfSymbol), attributes=(Data, AttributesType[ElfSymbolStructure]), global_offset=(0x32c8-0x32e0), parent_offset=(0x270-0x288), data_hex=010000000400f1ff00000000000000000000000000000000]\n",
      "│   ├────11c5de72ec394e8f8cbf1df1617a9341: [caption=(ElfSymbol), attributes=(Data, AttributesType[ElfSymbolStructure]), global_offset=(0x32e0-0x32f8), parent_offset=(0x288-0x2a0), data_hex=0c00000002000d0080104000000000000000000000000000]\n",
      "│   ├────51bd7abb93c44b39b16d15637040dbbd: [caption=(ElfSymbol), attributes=(Data, AttributesType[ElfSymbolStructure]), global_offset=(0x32f8-0x3310), parent_offset=(0x2a0-0x2b8), data_hex=0e00000002000d00b0104000000000000000000000000000]\n",
      "│   ├────cbbacf603c2f42cfaeab612c538c0128: [caption=(ElfSymbol), attributes=(Data, AttributesType[ElfSymbolStructure]), global_offset=(0x3310-0x3328), parent_offset=(0x2b8-0x2d0), data_hex=2100000002000d00f0104000000000000000000000000000]\n",
      "│   ├────17f590a81278409c9b1ea04c7b3d7773: [caption=(ElfSymbol), attributes=(Data, AttributesType[ElfSymbolStructure]), global_offset=(0x3328-0x3340), parent_offset=(0x2d0-0x2e8), data_hex=370000000100180030404000000000000100000000000000]\n",
      "│   ├────3be81857142a4f65b032d4dd42548475: [caption=(ElfSymbol), attributes=(Data, AttributesType[ElfSymbolStructure]), global_offset=(0x3340-0x3358), parent_offset=(0x2e8-0x300), data_hex=4300000001001300183e4000000000000000000000000000]\n",
      "│   ├────08ab00f4dfb6413cb6279d45f614a8ee: [caption=(ElfSymbol), attributes=(Data, AttributesType[ElfSymbolStructure]), global_offset=(0x3358-0x3370), parent_offset=(0x300-0x318), data_hex=6a00000002000d0020114000000000000000000000000000]\n",
      "│   ├────d133ba23eca54f709c894a9b7773b2e9: [caption=(ElfSymbol), attributes=(Data, AttributesType[ElfSymbolStructure]), global_offset=(0x3370-0x3388), parent_offset=(0x318-0x330), data_hex=7600000001001200103e4000000000000000000000000000]\n",
      "│   ├────0bd13550566c48cab24e9b63572d9770: [caption=(ElfSymbol), attributes=(Data, AttributesType[ElfSymbolStructure]), global_offset=(0x3388-0x33a0), parent_offset=(0x330-0x348), data_hex=950000000400f1ff00000000000000000000000000000000]\n",
      "│   ├────911526d9da3849de8a08c44ee8d41b6f: [caption=(ElfSymbol), attributes=(Data, AttributesType[ElfSymbolStructure]), global_offset=(0x33a0-0x33b8), parent_offset=(0x348-0x360), data_hex=010000000400f1ff00000000000000000000000000000000]\n",
      "│   ├────d4da18d132724372b28af2b0e624042e: [caption=(ElfSymbol), attributes=(Data, AttributesType[ElfSymbolStructure]), global_offset=(0x33b8-0x33d0), parent_offset=(0x360-0x378), data_hex=a3000000010011004c214000000000000000000000000000]\n",
      "│   ├────f8e27e0325894c96b9416cec965de823: [caption=(ElfSymbol), attributes=(Data, AttributesType[ElfSymbolStructure]), global_offset=(0x33d0-0x33e8), parent_offset=(0x378-0x390), data_hex=000000000400f1ff00000000000000000000000000000000]\n",
      "│   ├────10680b7e4deb4cd9aac028ba7a3d3991: [caption=(ElfSymbol), attributes=(Data, AttributesType[ElfSymbolStructure]), global_offset=(0x33e8-0x3400), parent_offset=(0x390-0x3a8), data_hex=b100000000001200183e4000000000000000000000000000]\n",
      "│   ├────b538b6d569984838ab427e7e8b10c16e: [caption=(ElfSymbol), attributes=(Data, AttributesType[ElfSymbolStructure]), global_offset=(0x3400-0x3418), parent_offset=(0x3a8-0x3c0), data_hex=c200000001001400203e4000000000000000000000000000]\n",
      "│   ├────cbc4dd9ab4874ab5b6591baf8453532d: [caption=(ElfSymbol), attributes=(Data, AttributesType[ElfSymbolStructure]), global_offset=(0x3418-0x3430), parent_offset=(0x3c0-0x3d8), data_hex=cb00000000001200103e4000000000000000000000000000]\n",
      "│   ├────b612b611693e48f48b322517e8fe69d6: [caption=(ElfSymbol), attributes=(Data, AttributesType[ElfSymbolStructure]), global_offset=(0x3430-0x3448), parent_offset=(0x3d8-0x3f0), data_hex=de0000000000100014204000000000000000000000000000]\n",
      "│   ├────ea4f85d17b5b405cadf3f2103babe060: [caption=(ElfSymbol), attributes=(Data, AttributesType[ElfSymbolStructure]), global_offset=(0x3448-0x3460), parent_offset=(0x3f0-0x408), data_hex=f10000000100160000404000000000000000000000000000]\n",
      "│   ├────491c4eccf2484e8ea85c9af3a3449d56: [caption=(ElfSymbol), attributes=(Data, AttributesType[ElfSymbolStructure]), global_offset=(0x3460-0x3478), parent_offset=(0x408-0x420), data_hex=0701000012000d00a0114000000000000100000000000000]\n",
      "│   ├────bcbceb34b4a14fcc833625cc1342ac4d: [caption=(ElfSymbol), attributes=(Data, AttributesType[ElfSymbolStructure]), global_offset=(0x3478-0x3490), parent_offset=(0x420-0x438), data_hex=4f0100002000170020404000000000000000000000000000]\n",
      "│   ├────74e2d636d55149ad92899fadf334ed59: [caption=(ElfSymbol), attributes=(Data, AttributesType[ElfSymbolStructure]), global_offset=(0x3490-0x34a8), parent_offset=(0x438-0x450), data_hex=170100001200000000000000000000000000000000000000]\n",
      "│   ├────db33935445e54b5ba13a27778f04583c: [caption=(ElfSymbol), attributes=(Data, AttributesType[ElfSymbolStructure]), global_offset=(0x34a8-0x34c0), parent_offset=(0x450-0x468), data_hex=280100001000170030404000000000000000000000000000]\n",
      "│   ├────1b740623121649d39448a0fa30352282: [caption=(ElfSymbol), attributes=(Data, AttributesType[ElfSymbolStructure]), global_offset=(0x34c0-0x34d8), parent_offset=(0x468-0x480), data_hex=1101000012020e00a4114000000000000000000000000000]\n",
      "│   ├────2ec1b84c01e64bf5a78cd63daaff8e30: [caption=(ElfSymbol), attributes=(Data, AttributesType[ElfSymbolStructure]), global_offset=(0x34d8-0x34f0), parent_offset=(0x480-0x498), data_hex=2f0100001200000000000000000000000000000000000000]\n",
      "│   ├────c01be39339ea47cc87d38e2d3ec79e64: [caption=(ElfSymbol), attributes=(Data, AttributesType[ElfSymbolStructure]), global_offset=(0x34f0-0x3508), parent_offset=(0x498-0x4b0), data_hex=4d0100001000170020404000000000000000000000000000]\n",
      "│   ├────13b66c18afe44db99e075137356d6c9c: [caption=(ElfSymbol), attributes=(Data, AttributesType[ElfSymbolStructure]), global_offset=(0x3508-0x3520), parent_offset=(0x4b0-0x4c8), data_hex=5a0100002000000000000000000000000000000000000000]\n",
      "│   ├────be378c6262a94b19a9eacc11b4e055e1: [caption=(ElfSymbol), attributes=(Data, AttributesType[ElfSymbolStructure]), global_offset=(0x3520-0x3538), parent_offset=(0x4c8-0x4e0), data_hex=690100001102170028404000000000000000000000000000]\n",
      "│   ├────3c762ac4c1f74354b210bd7da6e5099d: [caption=(ElfSymbol), attributes=(Data, AttributesType[ElfSymbolStructure]), global_offset=(0x3538-0x3550), parent_offset=(0x4e0-0x4f8), data_hex=7601000011000f0000204000000000000400000000000000]\n",
      "│   ├────60137a93dd6c4f9cabc9040437d072d3: [caption=(ElfSymbol), attributes=(Data, AttributesType[ElfSymbolStructure]), global_offset=(0x3550-0x3568), parent_offset=(0x4f8-0x510), data_hex=8501000012000d0040114000000000005d00000000000000]\n",
      "│   ├────3df613989f744938b966a48bafad2c6c: [caption=(ElfSymbol), attributes=(Data, AttributesType[ElfSymbolStructure]), global_offset=(0x3568-0x3580), parent_offset=(0x510-0x528), data_hex=bd0000001000180038404000000000000000000000000000]\n",
      "│   ├────45a5d5557b5541fa864d97e80b9380b4: [caption=(ElfSymbol), attributes=(Data, AttributesType[ElfSymbolStructure]), global_offset=(0x3580-0x3598), parent_offset=(0x528-0x540), data_hex=9501000012020d0070104000000000000100000000000000]\n",
      "│   ├────7303a996849f4c51bdac179cdf7b9071: [caption=(ElfSymbol), attributes=(Data, AttributesType[ElfSymbolStructure]), global_offset=(0x3598-0x35b0), parent_offset=(0x540-0x558), data_hex=5301000012000d0040104000000000002b00000000000000]\n",
      "│   ├────1171a93500ef4f96bc82d8dcf3c6cb9a: [caption=(ElfSymbol), attributes=(Data, AttributesType[ElfSymbolStructure]), global_offset=(0x35b0-0x35c8), parent_offset=(0x558-0x570), data_hex=ad0100001000180030404000000000000000000000000000]\n",
      "│   ├────fb5b870eb480416dbef6f8f000f84c63: [caption=(ElfSymbol), attributes=(Data, AttributesType[ElfSymbolStructure]), global_offset=(0x35c8-0x35e0), parent_offset=(0x570-0x588), data_hex=b901000012000d0022114000000000001700000000000000]\n",
      "│   ├────6af60fe9811f4aa9b3125c433e623c8a: [caption=(ElfSymbol), attributes=(Data, AttributesType[ElfSymbolStructure]), global_offset=(0x35e0-0x35f8), parent_offset=(0x588-0x5a0), data_hex=be0100001102170030404000000000000000000000000000]\n",
      "│   └────48a8c170fab44043ad71657da1adb96c: [caption=(ElfSymbol), attributes=(Data, AttributesType[ElfSymbolStructure]), global_offset=(0x35f8-0x3610), parent_offset=(0x5a0-0x5b8), data_hex=8f01000012020b0000104000000000000000000000000000]\n",
      "├────e11db891a522445eb9a64df6568b65cd: [caption=(ElfSectionHeader), attributes=(Data, AttributesType[ElfSectionStructure], AttributesType[ElfSectionHeader]), global_offset=(0x3fa0-0x3fe0), parent_offset=(0x3fa0-0x3fe0), data_hex=0900000003000000000000000000000000000000000000001036000000000000ca01000000000000000000000000000001000000000000000000000000000000]\n",
      "├───┬a1b055329b054cbba19cfc3a39117f58: [caption=(ElfSection, ElfStringSection), attributes=(Data, AttributesType[ElfSectionStructure]), global_offset=(0x3610-0x37da), parent_offset=(0x3610-0x37da), data_hash=800e56e9]\n",
      "│   ├────4c74c967f29d46759cb91573500f3399: [caption=(string: 'crtstuff.c'), attributes=(Data, AttributesType[AsciiString]), global_offset=(0x3611-0x361c), parent_offset=(0x1-0xc), data_hex=63727473747566662e6300]\n",
      "│   ├────17adfad0ba3348208e893835c41dcb94: [caption=(string: 'deregister_tm_clones'), attributes=(Data, AttributesType[AsciiString]), global_offset=(0x361c-0x3631), parent_offset=(0xc-0x21), data_hex=646572656769737465725f746d5f636c6f6e657300]\n",
      "│   ├────d27714e318d7431e88c539ecd37c2988: [caption=(string: '__do_global_dtors_aux'), attributes=(Data, AttributesType[AsciiString]), global_offset=(0x3631-0x3647), parent_offset=(0x21-0x37), data_hex=5f5f646f5f676c6f62616c5f64746f72735f61757800]\n",
      "│   ├────e9eaf9d9fb07460894a4086ad4aff81b: [caption=(string: 'completed.0'), attributes=(Data, AttributesType[AsciiString]), global_offset=(0x3647-0x3653), parent_offset=(0x37-0x43), data_hex=636f6d706c657465642e3000]\n",
      "│   ├────df052a031ef6463db6fec9c4f793ec53: [caption=(string: '__do_global_dtors_aux_fini_array_entry'), attributes=(Data, AttributesType[AsciiString]), global_offset=(0x3653-0x367a), parent_offset=(0x43-0x6a), data_hex=5f5f646f5f676c6f62616c5f64746f72735f6175785f66696e695f61727261795f656e74727900]\n",
      "│   ├────509a2909d9844cbd8a3b42f73465a5a0: [caption=(string: 'frame_dummy'), attributes=(Data, AttributesType[AsciiString]), global_offset=(0x367a-0x3686), parent_offset=(0x6a-0x76), data_hex=6672616d655f64756d6d7900]\n",
      "│   ├────2ae49b03fed04937b63f8dcdcad955f6: [caption=(string: '__frame_dummy_init_array_entry'), attributes=(Data, AttributesType[AsciiString]), global_offset=(0x3686-0x36a5), parent_offset=(0x76-0x95), data_hex=5f5f6672616d655f64756d6d795f696e69745f61727261795f656e74727900]\n",
      "│   ├────b092269e0a834e9898efb6c32d61fe61: [caption=(string: 'hello_world.c'), attributes=(Data, AttributesType[AsciiString]), global_offset=(0x36a5-0x36b3), parent_offset=(0x95-0xa3), data_hex=68656c6c6f5f776f726c642e6300]\n",
      "│   ├────d05cc2f307434db8b44e99ccc7ae101c: [caption=(string: '__FRAME_END__'), attributes=(Data, AttributesType[AsciiString]), global_offset=(0x36b3-0x36c1), parent_offset=(0xa3-0xb1), data_hex=5f5f4652414d455f454e445f5f00]\n",
      "│   ├────aee51853031e407aaa722190245f90ec: [caption=(string: '__init_array_end'), attributes=(Data, AttributesType[AsciiString]), global_offset=(0x36c1-0x36d2), parent_offset=(0xb1-0xc2), data_hex=5f5f696e69745f61727261795f656e6400]\n",
      "│   ├────726c0c756daf4751b2710e7971c10832: [caption=(string: '_DYNAMIC'), attributes=(Data, AttributesType[AsciiString]), global_offset=(0x36d2-0x36db), parent_offset=(0xc2-0xcb), data_hex=5f44594e414d494300]\n",
      "│   ├────1c7e116bb973459e8dd1cd1a2845bdf3: [caption=(string: '__init_array_start'), attributes=(Data, AttributesType[AsciiString]), global_offset=(0x36db-0x36ee), parent_offset=(0xcb-0xde), data_hex=5f5f696e69745f61727261795f737461727400]\n",
      "│   ├────1acb2d8e5ae0427eaaadb3bacafcc254: [caption=(string: '__GNU_EH_FRAME_HDR'), attributes=(Data, AttributesType[AsciiString]), global_offset=(0x36ee-0x3701), parent_offset=(0xde-0xf1), data_hex=5f5f474e555f45485f4652414d455f48445200]\n",
      "│   ├────694a89c8c9af466ba882f32acf8612b6: [caption=(string: '_GLOBAL_OFFSET_TABLE_'), attributes=(Data, AttributesType[AsciiString]), global_offset=(0x3701-0x3717), parent_offset=(0xf1-0x107), data_hex=5f474c4f42414c5f4f46465345545f5441424c455f00]\n",
      "│   ├────1b3380e97880492682a7c6d2cf5b6c1c: [caption=(string: '__libc_csu_fini'), attributes=(Data, AttributesType[AsciiString]), global_offset=(0x3717-0x3727), parent_offset=(0x107-0x117), data_hex=5f5f6c6962635f6373755f66696e6900]\n",
      "│   ├────86112bfa46924c65afe2a49b34d92b7c: [caption=(string: 'puts@GLIBC_2.2.5'), attributes=(Data, AttributesType[AsciiString]), global_offset=(0x3727-0x3738), parent_offset=(0x117-0x128), data_hex=7075747340474c4942435f322e322e3500]\n",
      "│   ├────d2d456a2d6ce4054b02d2653ab142bab: [caption=(string: '_edata'), attributes=(Data, AttributesType[AsciiString]), global_offset=(0x3738-0x373f), parent_offset=(0x128-0x12f), data_hex=5f656461746100]\n",
      "│   ├────16060343c23b4d33bef2d10019e99467: [caption=(string: '__libc_start_main@GLIBC_2.2.5'), attributes=(Data, AttributesType[AsciiString]), global_offset=(0x373f-0x375d), parent_offset=(0x12f-0x14d), data_hex=5f5f6c6962635f73746172745f6d61696e40474c4942435f322e322e3500]\n",
      "│   ├────f8373bd606f2404db9b24ed6fc311aeb: [caption=(string: '__data_start'), attributes=(Data, AttributesType[AsciiString]), global_offset=(0x375d-0x376a), parent_offset=(0x14d-0x15a), data_hex=5f5f646174615f737461727400]\n",
      "│   ├────0f1967784664493c8394f6e5bb5bead0: [caption=(string: '__gmon_start__'), attributes=(Data, AttributesType[AsciiString]), global_offset=(0x376a-0x3779), parent_offset=(0x15a-0x169), data_hex=5f5f676d6f6e5f73746172745f5f00]\n",
      "│   ├────bc5a744b700b41aa9622fb36d0583ba1: [caption=(string: '__dso_handle'), attributes=(Data, AttributesType[AsciiString]), global_offset=(0x3779-0x3786), parent_offset=(0x169-0x176), data_hex=5f5f64736f5f68616e646c6500]\n",
      "│   ├────494bfb7d3f264761a2f2e5772f0b0a3d: [caption=(string: '_IO_stdin_used'), attributes=(Data, AttributesType[AsciiString]), global_offset=(0x3786-0x3795), parent_offset=(0x176-0x185), data_hex=5f494f5f737464696e5f7573656400]\n",
      "│   ├────be1c947b8b444397883e99ebf10c143a: [caption=(string: '__libc_csu_init'), attributes=(Data, AttributesType[AsciiString]), global_offset=(0x3795-0x37a5), parent_offset=(0x185-0x195), data_hex=5f5f6c6962635f6373755f696e697400]\n",
      "│   ├────db81f67baba946cdb18bec31380a86f7: [caption=(string: '_dl_relocate_static_pie'), attributes=(Data, AttributesType[AsciiString]), global_offset=(0x37a5-0x37bd), parent_offset=(0x195-0x1ad), data_hex=5f646c5f72656c6f636174655f7374617469635f70696500]\n",
      "│   ├────30fdc17d91674032b2d1edff3db6a950: [caption=(string: '__bss_start'), attributes=(Data, AttributesType[AsciiString]), global_offset=(0x37bd-0x37c9), parent_offset=(0x1ad-0x1b9), data_hex=5f5f6273735f737461727400]\n",
      "│   ├────c87b5c97c8024f40924912429ed48774: [caption=(string: 'main'), attributes=(Data, AttributesType[AsciiString]), global_offset=(0x37c9-0x37ce), parent_offset=(0x1b9-0x1be), data_hex=6d61696e00]\n",
      "│   └────20867fffcfbe442abce21251040bec1a: [caption=(string: '__TMC_END__'), attributes=(Data, AttributesType[AsciiString]), global_offset=(0x37ce-0x37da), parent_offset=(0x1be-0x1ca), data_hex=5f5f544d435f454e445f5f00]\n",
      "├────3364f3c6fcbd489f8ea7a61c522ab86e: [caption=(ElfSectionHeader), attributes=(Data, AttributesType[ElfSectionStructure], AttributesType[ElfSectionHeader]), global_offset=(0x3fe0-0x4020), parent_offset=(0x3fe0-0x4020), data_hex=110000000300000000000000000000000000000000000000da370000000000000301000000000000000000000000000001000000000000000000000000000000]\n",
      "├───┬df9ebfb75d594b158e2faa33d69765fc: [caption=(ElfSectionNameStringSection, ElfSection), attributes=(Data, AttributesType[ElfSectionStructure]), global_offset=(0x37da-0x38dd), parent_offset=(0x37da-0x38dd), data_hash=6db41dea]\n",
      "│   ├────85f937f2862e4923a28bd29761bb5093: [caption=(string: '.symtab'), attributes=(Data, AttributesType[AsciiString]), global_offset=(0x37db-0x37e3), parent_offset=(0x1-0x9), data_hex=2e73796d74616200]\n",
      "│   ├────061acc50ee7b4f4aa1bf383acf2e93aa: [caption=(string: '.strtab'), attributes=(Data, AttributesType[AsciiString]), global_offset=(0x37e3-0x37eb), parent_offset=(0x9-0x11), data_hex=2e73747274616200]\n",
      "│   ├────fe45a1f298b2493085d0b345b48381d7: [caption=(string: '.shstrtab'), attributes=(Data, AttributesType[AsciiString]), global_offset=(0x37eb-0x37f5), parent_offset=(0x11-0x1b), data_hex=2e736873747274616200]\n",
      "│   ├────47aaa70bc63643058f35e92ad9e44c83: [caption=(string: '.interp'), attributes=(Data, AttributesType[AsciiString]), global_offset=(0x37f5-0x37fd), parent_offset=(0x1b-0x23), data_hex=2e696e7465727000]\n",
      "│   ├────8bc5263a0dd044ec8c7d40456004cae5: [caption=(string: '.note.gnu.build-id'), attributes=(Data, AttributesType[AsciiString]), global_offset=(0x37fd-0x3810), parent_offset=(0x23-0x36), data_hex=2e6e6f74652e676e752e6275696c642d696400]\n",
      "│   ├────5e786333e8a84a26ab3d118ff6a843ca: [caption=(string: '.note.ABI-tag'), attributes=(Data, AttributesType[AsciiString]), global_offset=(0x3810-0x381e), parent_offset=(0x36-0x44), data_hex=2e6e6f74652e4142492d74616700]\n",
      "│   ├────993ab2dbaf08405bbfab821d79a9d9d8: [caption=(string: '.gnu.hash'), attributes=(Data, AttributesType[AsciiString]), global_offset=(0x381e-0x3828), parent_offset=(0x44-0x4e), data_hex=2e676e752e6861736800]\n",
      "│   ├────3f8395bb1f984dfc8c46b9939461bcee: [caption=(string: '.dynsym'), attributes=(Data, AttributesType[AsciiString]), global_offset=(0x3828-0x3830), parent_offset=(0x4e-0x56), data_hex=2e64796e73796d00]\n",
      "│   ├────738c235e76ca4637aa6a9cc63baeca6d: [caption=(string: '.dynstr'), attributes=(Data, AttributesType[AsciiString]), global_offset=(0x3830-0x3838), parent_offset=(0x56-0x5e), data_hex=2e64796e73747200]\n",
      "│   ├────d1baed753e694912add6296f15bb40c7: [caption=(string: '.gnu.version'), attributes=(Data, AttributesType[AsciiString]), global_offset=(0x3838-0x3845), parent_offset=(0x5e-0x6b), data_hex=2e676e752e76657273696f6e00]\n",
      "│   ├────9a8ff2e58b154cbe93cd45dc2a44f257: [caption=(string: '.gnu.version_r'), attributes=(Data, AttributesType[AsciiString]), global_offset=(0x3845-0x3854), parent_offset=(0x6b-0x7a), data_hex=2e676e752e76657273696f6e5f7200]\n",
      "│   ├────b417e4404146415388689164d4ea3136: [caption=(string: '.rela.dyn'), attributes=(Data, AttributesType[AsciiString]), global_offset=(0x3854-0x385e), parent_offset=(0x7a-0x84), data_hex=2e72656c612e64796e00]\n",
      "│   ├────2818fa565bec4655810e0f3ccab17e05: [caption=(string: '.rela.plt'), attributes=(Data, AttributesType[AsciiString]), global_offset=(0x385e-0x3868), parent_offset=(0x84-0x8e), data_hex=2e72656c612e706c7400]\n",
      "│   ├────ccbd553487fc4557895ad8344ff7fa76: [caption=(string: '.init'), attributes=(Data, AttributesType[AsciiString]), global_offset=(0x3868-0x386e), parent_offset=(0x8e-0x94), data_hex=2e696e697400]\n",
      "│   ├────eb60704920754756830b923f6b262b76: [caption=(string: '.text'), attributes=(Data, AttributesType[AsciiString]), global_offset=(0x386e-0x3874), parent_offset=(0x94-0x9a), data_hex=2e7465787400]\n",
      "│   ├────7ca3ae66f1224b928402b7af207167be: [caption=(string: '.fini'), attributes=(Data, AttributesType[AsciiString]), global_offset=(0x3874-0x387a), parent_offset=(0x9a-0xa0), data_hex=2e66696e6900]\n",
      "│   ├────be2413a80f0640b8862297e4d7a1a05a: [caption=(string: '.rodata'), attributes=(Data, AttributesType[AsciiString]), global_offset=(0x387a-0x3882), parent_offset=(0xa0-0xa8), data_hex=2e726f6461746100]\n",
      "│   ├────8fa957066b9847f8b9d61d911020a531: [caption=(string: '.eh_frame_hdr'), attributes=(Data, AttributesType[AsciiString]), global_offset=(0x3882-0x3890), parent_offset=(0xa8-0xb6), data_hex=2e65685f6672616d655f68647200]\n",
      "│   ├────a49f789c7829401686f261c4c66eccd4: [caption=(string: '.eh_frame'), attributes=(Data, AttributesType[AsciiString]), global_offset=(0x3890-0x389a), parent_offset=(0xb6-0xc0), data_hex=2e65685f6672616d6500]\n",
      "│   ├────8e2d42821ca8460a911415c687d0b157: [caption=(string: '.init_array'), attributes=(Data, AttributesType[AsciiString]), global_offset=(0x389a-0x38a6), parent_offset=(0xc0-0xcc), data_hex=2e696e69745f617272617900]\n",
      "│   ├────f1941f23561f4ba8a502cf09909d7044: [caption=(string: '.fini_array'), attributes=(Data, AttributesType[AsciiString]), global_offset=(0x38a6-0x38b2), parent_offset=(0xcc-0xd8), data_hex=2e66696e695f617272617900]\n",
      "│   ├────56321f4318bc4ca8939940c50dcce90c: [caption=(string: '.dynamic'), attributes=(Data, AttributesType[AsciiString]), global_offset=(0x38b2-0x38bb), parent_offset=(0xd8-0xe1), data_hex=2e64796e616d696300]\n",
      "│   ├────133b4b11d00a496fb7b80b42fe1906ba: [caption=(string: '.got'), attributes=(Data, AttributesType[AsciiString]), global_offset=(0x38bb-0x38c0), parent_offset=(0xe1-0xe6), data_hex=2e676f7400]\n",
      "│   ├────2016eef6125049b680ead829ec50d5e8: [caption=(string: '.got.plt'), attributes=(Data, AttributesType[AsciiString]), global_offset=(0x38c0-0x38c9), parent_offset=(0xe6-0xef), data_hex=2e676f742e706c7400]\n",
      "│   ├────681905520d864482b4ceca54dd531f29: [caption=(string: '.data'), attributes=(Data, AttributesType[AsciiString]), global_offset=(0x38c9-0x38cf), parent_offset=(0xef-0xf5), data_hex=2e6461746100]\n",
      "│   ├────8198eb48946143a7a37489583cc300af: [caption=(string: '.bss'), attributes=(Data, AttributesType[AsciiString]), global_offset=(0x38cf-0x38d4), parent_offset=(0xf5-0xfa), data_hex=2e62737300]\n",
      "│   └────76835b7e13054571b92a16bb2e81490d: [caption=(string: '.comment'), attributes=(Data, AttributesType[AsciiString]), global_offset=(0x38d4-0x38dd), parent_offset=(0xfa-0x103), data_hex=2e636f6d6d656e7400]\n",
      "├────2d63dd76ca4e471a903a66582388498b: [caption=(ElfProgramHeader: PHDR, R), attributes=(Data, AttributesType[ElfSegmentStructure], AttributesType[ElfProgramHeader]), global_offset=(0x40-0x78), parent_offset=(0x40-0x78), data_hex=0600000004000000400000000000000040004000000000004000400000000000680200000000000068020000000000000800000000000000]\n",
      "├────e34fedd1529a44a5988cabedafb94b76: [caption=(ElfProgramHeader: INTERP, R), attributes=(Data, AttributesType[ElfSegmentStructure], AttributesType[ElfProgramHeader]), global_offset=(0x78-0xb0), parent_offset=(0x78-0xb0), data_hex=0300000004000000a802000000000000a802400000000000a8024000000000001c000000000000001c000000000000000100000000000000]\n",
      "├────9bfeee745bce409ab813a462aba4084c: [caption=(ElfProgramHeader: LOAD, R), attributes=(Data, AttributesType[ElfSegmentStructure], AttributesType[ElfProgramHeader]), global_offset=(0xb0-0xe8), parent_offset=(0xb0-0xe8), data_hex=0100000004000000000000000000000000004000000000000000400000000000380400000000000038040000000000000010000000000000]\n",
      "├────94357b43e492426aaae0f9bccd05c5ae: [caption=(ElfProgramHeader: LOAD, RX), attributes=(Data, AttributesType[ElfSegmentStructure], AttributesType[ElfProgramHeader]), global_offset=(0xe8-0x120), parent_offset=(0xe8-0x120), data_hex=0100000005000000001000000000000000104000000000000010400000000000ad01000000000000ad010000000000000010000000000000]\n",
      "├────f1d1d22ef0e645bb9e77f1c5797baa3f: [caption=(ElfProgramHeader: LOAD, R), attributes=(Data, AttributesType[ElfSegmentStructure], AttributesType[ElfProgramHeader]), global_offset=(0x120-0x158), parent_offset=(0x120-0x158), data_hex=0100000004000000002000000000000000204000000000000020400000000000500100000000000050010000000000000010000000000000]\n",
      "├────ac188e20f9ac496f9b871717f55b7e17: [caption=(ElfProgramHeader: LOAD, RW), attributes=(Data, AttributesType[ElfSegmentStructure], AttributesType[ElfProgramHeader]), global_offset=(0x158-0x190), parent_offset=(0x158-0x190), data_hex=0100000006000000102e000000000000103e400000000000103e400000000000200200000000000028020000000000000010000000000000]\n",
      "├────a480a2bc7a904b78a683854aabffcd22: [caption=(ElfProgramHeader: DYNAMIC, RW), attributes=(Data, AttributesType[ElfSegmentStructure], AttributesType[ElfProgramHeader]), global_offset=(0x190-0x1c8), parent_offset=(0x190-0x1c8), data_hex=0200000006000000202e000000000000203e400000000000203e400000000000d001000000000000d0010000000000000800000000000000]\n",
      "├────d563d1373b3d45b98699e1d5ff669f33: [caption=(ElfProgramHeader: NOTE, R), attributes=(Data, AttributesType[ElfSegmentStructure], AttributesType[ElfProgramHeader]), global_offset=(0x1c8-0x200), parent_offset=(0x1c8-0x200), data_hex=0400000004000000c402000000000000c402400000000000c402400000000000440000000000000044000000000000000400000000000000]\n",
      "├────f62bc0a7b2344b84bc06c2d848898e35: [caption=(ElfProgramHeader: GNU_EH_FRAME, R), attributes=(Data, AttributesType[ElfSegmentStructure], AttributesType[ElfProgramHeader]), global_offset=(0x200-0x238), parent_offset=(0x200-0x238), data_hex=50e57464040000001420000000000000142040000000000014204000000000003c000000000000003c000000000000000400000000000000]\n",
      "├────dcfb5573e6544725a15bb91d9204f2d3: [caption=(ElfProgramHeader: GNU_STACK, RW), attributes=(Data, AttributesType[ElfSegmentStructure], AttributesType[ElfProgramHeader]), global_offset=(0x238-0x270), parent_offset=(0x238-0x270), data_hex=51e5746406000000000000000000000000000000000000000000000000000000000000000000000000000000000000001000000000000000]\n",
      "└────df5c4193c1e64f1ea195f1b9896607a1: [caption=(ElfProgramHeader: GNU_RELRO, R), attributes=(Data, AttributesType[ElfSegmentStructure], AttributesType[ElfProgramHeader]), global_offset=(0x270-0x2a8), parent_offset=(0x270-0x2a8), data_hex=52e5746404000000102e000000000000103e400000000000103e400000000000f001000000000000f0010000000000000100000000000000]\n",
      "\n"
     ]
    }
   ],
   "source": [
    "info = await root_resource.summarize_tree()\n",
    "print(info)"
   ]
  },
  {
   "cell_type": "markdown",
   "id": "2a51c552",
   "metadata": {},
   "source": [
    "This tree has a lot more information than before. Which kinds of children were created? Let's have a look at their *tags*, which essentially describe the possible types that OFRAK knows for a resource."
   ]
  },
  {
   "cell_type": "code",
   "execution_count": 6,
   "id": "99859d11",
   "metadata": {},
   "outputs": [
    {
     "name": "stdout",
     "output_type": "stream",
     "text": [
      "Addressable\n",
      "AsciiString\n",
      "CodeRegion\n",
      "ElfBasicHeader\n",
      "ElfDynSymbolSection\n",
      "ElfDynamicEntry\n",
      "ElfDynamicSection\n",
      "ElfFiniArraySection\n",
      "ElfHeader\n",
      "ElfInitArraySection\n",
      "ElfPointerArraySection\n",
      "ElfProgramHeader\n",
      "ElfRelaEntry\n",
      "ElfRelaSection\n",
      "ElfSection\n",
      "ElfSectionHeader\n",
      "ElfSectionNameStringSection\n",
      "ElfSectionStructure\n",
      "ElfSegmentStructure\n",
      "ElfStringSection\n",
      "ElfSymbol\n",
      "ElfSymbolSection\n",
      "ElfSymbolStructure\n",
      "ElfVirtualAddress\n",
      "MemoryRegion\n",
      "NamedProgramSection\n",
      "ProgramSection\n"
     ]
    }
   ],
   "source": [
    "async def get_descendants_tags(resource):\n",
    "    \"\"\"Return an alphabetically sorted list of all the tags of the descendants of `resource`.\"\"\"\n",
    "    all_tags = set()\n",
    "    for child_resource in await resource.get_descendants():\n",
    "        all_tags |= set(child_resource.get_tags())\n",
    "    return sorted(all_tags, key=str)\n",
    "\n",
    "\n",
    "for tag in await get_descendants_tags(root_resource):\n",
    "    print(tag)"
   ]
  },
  {
   "cell_type": "markdown",
   "id": "12c6fa95",
   "metadata": {},
   "source": [
    "OFRAK has analyzed the binary down to basically its ELF sections, headers and symbols. No instructions? That's because we haven't told OFRAK which analysis backend to use. Available backends are Ghidra and BinaryNinja; we'll introduce them later, when we need them."
   ]
  },
  {
   "cell_type": "markdown",
   "id": "c477afd5",
   "metadata": {},
   "source": [
    "How would we get all the resources in the tree with a `CodeRegion` tag? We can use one of OFRAK's filtering capabilities, `ResourceFilter.with_tags`:"
   ]
  },
  {
   "cell_type": "code",
   "execution_count": 7,
   "id": "f1dd1f92",
   "metadata": {
    "tags": [
     "nbval-ignore-output"
    ]
   },
   "outputs": [
    {
     "data": {
      "text/plain": [
       "[Resource(resource_id=565fc63a77494276bafea235ae00344e, tag=[Addressable,CodeRegion,ElfSection,MemoryRegion,ProgramSection,NamedProgramSection,ElfSectionStructure], data=565fc63a77494276bafea235ae00344e),\n",
       " Resource(resource_id=d53f13b1d70c486397c25938311aeeab, tag=[Addressable,CodeRegion,ElfSection,MemoryRegion,ProgramSection,NamedProgramSection,ElfSectionStructure], data=d53f13b1d70c486397c25938311aeeab),\n",
       " Resource(resource_id=9fb3213d0af14510828108089c1d521b, tag=[Addressable,CodeRegion,ElfSection,MemoryRegion,ProgramSection,NamedProgramSection,ElfSectionStructure], data=9fb3213d0af14510828108089c1d521b),\n",
       " Resource(resource_id=1200d9c6b7ba4406bd97d44ef17fea4b, tag=[Addressable,CodeRegion,ElfSection,MemoryRegion,ProgramSection,NamedProgramSection,ElfSectionStructure], data=1200d9c6b7ba4406bd97d44ef17fea4b)]"
      ]
     },
     "execution_count": 7,
     "metadata": {},
     "output_type": "execute_result"
    }
   ],
   "source": [
    "from ofrak.core import CodeRegion\n",
    "from ofrak import ResourceFilter\n",
    "\n",
    "list(await root_resource.get_descendants(r_filter=ResourceFilter.with_tags(CodeRegion)))"
   ]
  },
  {
   "cell_type": "markdown",
   "id": "086319a6",
   "metadata": {},
   "source": [
    "[Next page](3_binary_format_modification.ipynb)"
   ]
  }
 ],
 "metadata": {
  "kernelspec": {
   "display_name": "Python 3 (ipykernel)",
   "language": "python",
   "name": "python3"
  },
  "language_info": {
   "codemirror_mode": {
    "name": "ipython",
    "version": 3
   },
   "file_extension": ".py",
   "mimetype": "text/x-python",
   "name": "python",
   "nbconvert_exporter": "python",
   "pygments_lexer": "ipython3",
   "version": "3.7.13"
  },
  "pycharm": {
   "stem_cell": {
    "cell_type": "raw",
    "metadata": {
     "collapsed": false
    },
    "source": []
   }
  }
 },
 "nbformat": 4,
 "nbformat_minor": 5
}
